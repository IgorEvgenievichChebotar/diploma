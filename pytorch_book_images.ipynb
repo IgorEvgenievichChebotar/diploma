{
 "cells": [
  {
   "cell_type": "code",
   "execution_count": 1,
   "metadata": {
    "ExecuteTime": {
     "end_time": "2024-03-24T22:20:57.792564Z",
     "start_time": "2024-03-24T22:20:56.101940Z"
    }
   },
   "outputs": [
    {
     "name": "stdout",
     "output_type": "stream",
     "text": [
      "Files already downloaded and verified\n",
      "Files already downloaded and verified\n"
     ]
    }
   ],
   "source": [
    "from torchvision import datasets, transforms\n",
    "from matplotlib import pyplot as plt\n",
    "\n",
    "data_path = '/dlwpt-code/cifar10'\n",
    "cifar10 = datasets.CIFAR10(data_path, train=True, download=True)\n",
    "cifar10_val = datasets.CIFAR10(data_path, train=False, download=True)"
   ]
  },
  {
   "cell_type": "code",
   "execution_count": 2,
   "metadata": {},
   "outputs": [
    {
     "name": "stdout",
     "output_type": "stream",
     "text": [
      " ��� � ���ன�⢥ D ����� ���� Data\n",
      " ��਩�� ����� ⮬�: 74AD-C5FE\n",
      "\n",
      " ����ন��� ����� d:\\YandexDisk\\study\\������\n",
      "\n",
      "01.04.2024  13:29    <DIR>          .\n",
      "01.04.2024  13:12    <DIR>          ..\n",
      "01.04.2024  17:57    <DIR>          .idea\n",
      "26.11.2023  13:34            23�278 _�����_�_��ଫ����_���_�_2023.docx\n",
      "30.11.2023  12:56           355�255 2_5422657366686448253.pdf\n",
      "27.10.2023  12:44           454�272 20261024_���ᠭ��_���⥪����_���஡�������᪮�?_���ଠ樮����?.docx\n",
      "24.03.2024  17:10            79�058 blue.jpg\n",
      "23.03.2024  17:32           197�331 Bobby.jpg\n",
      "30.11.2023  12:56         3�260�841 c_����.pdf\n",
      "25.03.2024  02:54       609�089�184 coco_instance_segmentation_dataset.zip\n",
      "25.03.2024  02:03    <DIR>          DATASET_BIG\n",
      "25.03.2024  02:45    <DIR>          DATASET_MINI\n",
      "29.03.2024  13:59    34�082�461�541 DATASETS.zip\n",
      "01.04.2024  13:21           640�618 detectron2_learn.ipynb\n",
      "23.03.2024  14:08             2�485 detectron2_learn.py\n",
      "23.03.2024  22:08    <DIR>          dlwpt-code\n",
      "29.03.2024  23:16           259�746 experiments.ipynb\n",
      "24.03.2024  17:11         1�265�061 green.jpg\n",
      "23.03.2024  18:12           238�650 horse.jpg\n",
      "23.03.2024  18:08        45�519�250 horse2zebra_0.4.0.pth\n",
      "23.03.2024  17:41            16�361 imagenet_classes.txt\n",
      "29.03.2024  06:13    <DIR>          output\n",
      "24.03.2024  16:03             2�072 points.hdf5\n",
      "24.03.2024  16:03             1�175 points.t\n",
      "23.03.2024  16:32        47�615�868 PyTorch._�ᢥ��_��㡮���_���祭��.pdf\n",
      "24.03.2024  18:46        19�429�575 pytorch_book.ipynb\n",
      "01.04.2024  18:19            68�832 pytorch_book_conv.ipynb\n",
      "29.03.2024  23:16           235�148 pytorch_book_images.ipynb\n",
      "24.03.2024  17:10         1�082�138 red.jpg\n",
      "30.03.2024  02:47         1�493�199 TEST.zip\n",
      "18.09.2023  11:12           584�609 ����_7_32_2017_�����_��_���_�_�뤥������.pdf\n",
      "24.03.2024  19:45    <DIR>          �������1\n",
      "18.03.2024  00:00           402�602 ������.docx\n",
      "18.03.2024  00:04    <DIR>          �������\n",
      "23.03.2024  14:24            65�281 ����� ������� _Annolid on Detectron2 Tutorial.ipynb\n",
      "05.11.2023  21:40    <DIR>          ��饥 �孨�᪮� ������� _ Wiki_files\n",
      "05.11.2023  21:40           348�176 ��.html\n",
      "05.11.2023  21:39                92 ��.txt\n",
      "              28 䠩��� 34�815�191�698 ����\n",
      "              10 �����  382�069�526�528 ���� ᢮�����\n"
     ]
    }
   ],
   "source": [
    "%ls"
   ]
  },
  {
   "cell_type": "code",
   "execution_count": 78,
   "metadata": {
    "ExecuteTime": {
     "end_time": "2024-03-24T22:20:57.801103Z",
     "start_time": "2024-03-24T22:20:57.795584Z"
    },
    "collapsed": false
   },
   "outputs": [
    {
     "data": {
      "text/plain": [
       "(Dataset CIFAR10\n",
       "     Number of datapoints: 50000\n",
       "     Root location: /dlwpt-code/cifar10\n",
       "     Split: Train,\n",
       " Dataset CIFAR10\n",
       "     Number of datapoints: 10000\n",
       "     Root location: /dlwpt-code/cifar10\n",
       "     Split: Test)"
      ]
     },
     "execution_count": 78,
     "metadata": {},
     "output_type": "execute_result"
    }
   ],
   "source": [
    "cifar10, cifar10_val"
   ]
  },
  {
   "cell_type": "code",
   "execution_count": 79,
   "metadata": {},
   "outputs": [
    {
     "data": {
      "text/plain": [
       "<matplotlib.image.AxesImage at 0x1e845aef590>"
      ]
     },
     "execution_count": 79,
     "metadata": {},
     "output_type": "execute_result"
    },
    {
     "data": {
      "image/png": "[encoded data removed]",
      "text/plain": [
       "<Figure size 640x480 with 1 Axes>"
      ]
     },
     "metadata": {},
     "output_type": "display_data"
    }
   ],
   "source": [
    "plt.imshow(cifar10[342][0])"
   ]
  },
  {
   "cell_type": "code",
   "execution_count": 80,
   "metadata": {},
   "outputs": [
    {
     "data": {
      "text/plain": [
       "PIL.Image.Image"
      ]
     },
     "execution_count": 80,
     "metadata": {},
     "output_type": "execute_result"
    }
   ],
   "source": [
    "type(cifar10[0][0])"
   ]
  },
  {
   "cell_type": "code",
   "execution_count": 81,
   "metadata": {
    "ExecuteTime": {
     "end_time": "2024-03-24T22:20:58.767682Z",
     "start_time": "2024-03-24T22:20:58.760006Z"
    },
    "collapsed": false
   },
   "outputs": [
    {
     "data": {
      "text/plain": [
       "(<PIL.Image.Image image mode=RGB size=32x32>, 2, 'bird')"
      ]
     },
     "execution_count": 81,
     "metadata": {},
     "output_type": "execute_result"
    }
   ],
   "source": [
    "img, label = cifar10[90]\n",
    "img, label, cifar10.classes[label]"
   ]
  },
  {
   "cell_type": "code",
   "execution_count": 82,
   "metadata": {
    "ExecuteTime": {
     "end_time": "2024-03-24T22:20:59.829188Z",
     "start_time": "2024-03-24T22:20:59.685921Z"
    },
    "collapsed": false
   },
   "outputs": [
    {
     "data": {
      "image/png": "[encoded data removed]",
      "text/plain": [
       "<Figure size 640x480 with 1 Axes>"
      ]
     },
     "metadata": {},
     "output_type": "display_data"
    }
   ],
   "source": [
    "plt.imshow(img)\n",
    "plt.show()"
   ]
  },
  {
   "cell_type": "code",
   "execution_count": 83,
   "metadata": {
    "ExecuteTime": {
     "end_time": "2024-03-24T22:21:09.785820Z",
     "start_time": "2024-03-24T22:21:09.778904Z"
    },
    "collapsed": false
   },
   "outputs": [
    {
     "data": {
      "text/plain": [
       "['AugMix',\n",
       " 'AutoAugment',\n",
       " 'AutoAugmentPolicy',\n",
       " 'CenterCrop',\n",
       " 'ColorJitter',\n",
       " 'Compose',\n",
       " 'ConvertImageDtype',\n",
       " 'ElasticTransform',\n",
       " 'FiveCrop',\n",
       " 'GaussianBlur',\n",
       " 'Grayscale',\n",
       " 'InterpolationMode',\n",
       " 'Lambda',\n",
       " 'LinearTransformation',\n",
       " 'Normalize',\n",
       " 'PILToTensor',\n",
       " 'Pad',\n",
       " 'RandAugment',\n",
       " 'RandomAdjustSharpness',\n",
       " 'RandomAffine',\n",
       " 'RandomApply',\n",
       " 'RandomAutocontrast',\n",
       " 'RandomChoice',\n",
       " 'RandomCrop',\n",
       " 'RandomEqualize',\n",
       " 'RandomErasing',\n",
       " 'RandomGrayscale',\n",
       " 'RandomHorizontalFlip',\n",
       " 'RandomInvert',\n",
       " 'RandomOrder',\n",
       " 'RandomPerspective',\n",
       " 'RandomPosterize',\n",
       " 'RandomResizedCrop',\n",
       " 'RandomRotation',\n",
       " 'RandomSolarize',\n",
       " 'RandomVerticalFlip',\n",
       " 'Resize',\n",
       " 'TenCrop',\n",
       " 'ToPILImage',\n",
       " 'ToTensor',\n",
       " 'TrivialAugmentWide',\n",
       " '__builtins__',\n",
       " '__cached__',\n",
       " '__doc__',\n",
       " '__file__',\n",
       " '__loader__',\n",
       " '__name__',\n",
       " '__package__',\n",
       " '__path__',\n",
       " '__spec__',\n",
       " '_functional_pil',\n",
       " '_functional_tensor',\n",
       " '_presets',\n",
       " 'autoaugment',\n",
       " 'functional',\n",
       " 'transforms']"
      ]
     },
     "execution_count": 83,
     "metadata": {},
     "output_type": "execute_result"
    }
   ],
   "source": [
    "dir(transforms)"
   ]
  },
  {
   "cell_type": "code",
   "execution_count": 84,
   "metadata": {
    "ExecuteTime": {
     "end_time": "2024-03-24T22:22:42.743869Z",
     "start_time": "2024-03-24T22:22:42.709933Z"
    },
    "collapsed": false
   },
   "outputs": [
    {
     "data": {
      "text/plain": [
       "torch.Size([3, 32, 32])"
      ]
     },
     "execution_count": 84,
     "metadata": {},
     "output_type": "execute_result"
    }
   ],
   "source": [
    "to_tensor = transforms.ToTensor()\n",
    "img_t = to_tensor(img)\n",
    "img_t.shape"
   ]
  },
  {
   "cell_type": "code",
   "execution_count": 85,
   "metadata": {
    "ExecuteTime": {
     "end_time": "2024-03-24T22:23:31.095715Z",
     "start_time": "2024-03-24T22:23:30.529812Z"
    },
    "collapsed": false
   },
   "outputs": [
    {
     "data": {
      "text/plain": [
       "torch.Size([3, 32, 32])"
      ]
     },
     "execution_count": 85,
     "metadata": {},
     "output_type": "execute_result"
    }
   ],
   "source": [
    "tensor_cifar10 = datasets.CIFAR10(data_path, train=True, download=False, transform=transforms.ToTensor())\n",
    "tensor_cifar10[0][0].shape"
   ]
  },
  {
   "cell_type": "code",
   "execution_count": 86,
   "metadata": {
    "ExecuteTime": {
     "end_time": "2024-03-24T22:26:19.530636Z",
     "start_time": "2024-03-24T22:26:19.525613Z"
    },
    "collapsed": false
   },
   "outputs": [],
   "source": [
    "img_t, _ = tensor_cifar10[99]"
   ]
  },
  {
   "cell_type": "code",
   "execution_count": 87,
   "metadata": {
    "ExecuteTime": {
     "end_time": "2024-03-24T22:26:20.375726Z",
     "start_time": "2024-03-24T22:26:20.234056Z"
    },
    "collapsed": false
   },
   "outputs": [
    {
     "data": {
      "text/plain": [
       "<matplotlib.image.AxesImage at 0x1e846035150>"
      ]
     },
     "execution_count": 87,
     "metadata": {},
     "output_type": "execute_result"
    },
    {
     "data": {
      "image/png": "[encoded data removed]",
      "text/plain": [
       "<Figure size 640x480 with 1 Axes>"
      ]
     },
     "metadata": {},
     "output_type": "display_data"
    }
   ],
   "source": [
    "plt.imshow(img_t.permute(1, 2, 0))"
   ]
  },
  {
   "cell_type": "code",
   "execution_count": 88,
   "metadata": {
    "ExecuteTime": {
     "end_time": "2024-03-24T22:26:21.564300Z",
     "start_time": "2024-03-24T22:26:21.557708Z"
    },
    "collapsed": false
   },
   "outputs": [
    {
     "data": {
      "text/plain": [
       "torch.Tensor"
      ]
     },
     "execution_count": 88,
     "metadata": {},
     "output_type": "execute_result"
    }
   ],
   "source": [
    "type(img_t)"
   ]
  },
  {
   "cell_type": "code",
   "execution_count": 89,
   "metadata": {
    "ExecuteTime": {
     "end_time": "2024-03-24T22:26:22.185823Z",
     "start_time": "2024-03-24T22:26:22.180277Z"
    },
    "collapsed": false
   },
   "outputs": [
    {
     "data": {
      "text/plain": [
       "(torch.Size([3, 32, 32]), torch.float32)"
      ]
     },
     "execution_count": 89,
     "metadata": {},
     "output_type": "execute_result"
    }
   ],
   "source": [
    "img_t.shape, img_t.dtype"
   ]
  },
  {
   "cell_type": "code",
   "execution_count": 90,
   "metadata": {
    "ExecuteTime": {
     "end_time": "2024-03-24T22:26:22.575641Z",
     "start_time": "2024-03-24T22:26:22.568608Z"
    },
    "collapsed": false
   },
   "outputs": [
    {
     "data": {
      "text/plain": [
       "(tensor(0.), tensor(1.))"
      ]
     },
     "execution_count": 90,
     "metadata": {},
     "output_type": "execute_result"
    }
   ],
   "source": [
    "img_t.min(), img_t.max()"
   ]
  },
  {
   "cell_type": "code",
   "execution_count": 91,
   "metadata": {
    "ExecuteTime": {
     "end_time": "2024-03-24T22:27:56.540696Z",
     "start_time": "2024-03-24T22:27:56.410910Z"
    },
    "collapsed": false
   },
   "outputs": [
    {
     "data": {
      "image/png": "[encoded data removed]",
      "text/plain": [
       "<Figure size 640x480 with 1 Axes>"
      ]
     },
     "metadata": {},
     "output_type": "display_data"
    }
   ],
   "source": [
    "plt.imshow(img_t.permute(1, 2, 0))\n",
    "plt.show()"
   ]
  },
  {
   "cell_type": "code",
   "execution_count": 92,
   "metadata": {
    "collapsed": false
   },
   "outputs": [],
   "source": [
    "import torch\n",
    "imgs = torch.stack([img_t for img_t, _ in tensor_cifar10], dim=3)"
   ]
  },
  {
   "cell_type": "code",
   "execution_count": 93,
   "metadata": {},
   "outputs": [
    {
     "data": {
      "text/plain": [
       "torch.Size([3, 32, 32, 50000])"
      ]
     },
     "execution_count": 93,
     "metadata": {},
     "output_type": "execute_result"
    }
   ],
   "source": [
    "imgs.shape"
   ]
  },
  {
   "cell_type": "code",
   "execution_count": 105,
   "metadata": {},
   "outputs": [
    {
     "data": {
      "text/plain": [
       "tensor([0.4914, 0.4822, 0.4465])"
      ]
     },
     "execution_count": 105,
     "metadata": {},
     "output_type": "execute_result"
    }
   ],
   "source": [
    "imgs.view(3, -1).shape\n",
    "imgs.view(3, -1).mean(dim=1)"
   ]
  },
  {
   "cell_type": "code",
   "execution_count": 100,
   "metadata": {},
   "outputs": [
    {
     "data": {
      "text/plain": [
       "tensor([0.2470, 0.2435, 0.2616])"
      ]
     },
     "execution_count": 100,
     "metadata": {},
     "output_type": "execute_result"
    }
   ],
   "source": [
    "imgs.view(3, -1).std(dim=1)"
   ]
  },
  {
   "cell_type": "code",
   "execution_count": 106,
   "metadata": {},
   "outputs": [
    {
     "data": {
      "text/plain": [
       "Normalize(mean=(0.4914, 0.4822, 0.4465), std=(0.247, 0.2435, 0.2616))"
      ]
     },
     "execution_count": 106,
     "metadata": {},
     "output_type": "execute_result"
    }
   ],
   "source": [
    "transforms.Normalize((0.4914, 0.4822, 0.4465), (0.2470, 0.2435, 0.2616))"
   ]
  },
  {
   "cell_type": "code",
   "execution_count": 113,
   "metadata": {},
   "outputs": [],
   "source": [
    "transformed_cifar10 = datasets.CIFAR10(\n",
    "    data_path,\n",
    "    train=True,\n",
    "    download=False,\n",
    "    transform=transforms.Compose([\n",
    "        transforms.ToTensor(),\n",
    "        transforms.Normalize((0.4914, 0.4822, 0.4465), (0.2470, 0.2435, 0.2616))\n",
    "    ])\n",
    ")\n",
    "transformed_cifar10_val = datasets.CIFAR10(\n",
    "    data_path,\n",
    "    train=False,\n",
    "    download=False,\n",
    "    transform=transforms.Compose([\n",
    "        transforms.ToTensor(),\n",
    "        transforms.Normalize((0.4914, 0.4822, 0.4465), (0.2470, 0.2435, 0.2616))\n",
    "    ])\n",
    ")"
   ]
  },
  {
   "cell_type": "code",
   "execution_count": 114,
   "metadata": {},
   "outputs": [
    {
     "name": "stderr",
     "output_type": "stream",
     "text": [
      "Clipping input data to the valid range for imshow with RGB data ([0..1] for floats or [0..255] for integers).\n"
     ]
    },
    {
     "data": {
      "image/png": "[encoded data removed]",
      "text/plain": [
       "<Figure size 640x480 with 1 Axes>"
      ]
     },
     "metadata": {},
     "output_type": "display_data"
    }
   ],
   "source": [
    "img_t, _ = transformed_cifar10[99]\n",
    "\n",
    "plt.imshow(img_t.permute(1, 2, 0))\n",
    "plt.show()"
   ]
  },
  {
   "cell_type": "code",
   "execution_count": 115,
   "metadata": {},
   "outputs": [],
   "source": [
    "label_map = {0: 0, 2: 1}\n",
    "class_names = ['airplane', 'bird']\n",
    "\n",
    "cifar2 = [(img, label_map[label]) for img, label in transformed_cifar10 if label in [0, 2]]\n",
    "cifar2_val = [(img, label_map[label]) for img, label in transformed_cifar10_val if label in [0, 2]]"
   ]
  },
  {
   "cell_type": "code",
   "execution_count": 118,
   "metadata": {},
   "outputs": [],
   "source": [
    "import torch.nn as nn\n",
    "\n",
    "n_out = 2\n",
    "\n",
    "model = nn.Sequential(\n",
    "    nn.Linear(3072, 512),\n",
    "    nn.Tanh(),\n",
    "    nn.Linear(512, n_out)\n",
    ")"
   ]
  },
  {
   "cell_type": "code",
   "execution_count": 120,
   "metadata": {},
   "outputs": [
    {
     "data": {
      "text/plain": [
       "<bound method Module.named_modules of Sequential(\n",
       "  (0): Linear(in_features=3072, out_features=512, bias=True)\n",
       "  (1): Tanh()\n",
       "  (2): Linear(in_features=512, out_features=2, bias=True)\n",
       ")>"
      ]
     },
     "execution_count": 120,
     "metadata": {},
     "output_type": "execute_result"
    }
   ],
   "source": [
    "model.named_modules"
   ]
  },
  {
   "cell_type": "code",
   "execution_count": 121,
   "metadata": {},
   "outputs": [],
   "source": [
    "def softmax(x):\n",
    "    return torch.exp(x) / torch.exp(x).sum()"
   ]
  },
  {
   "cell_type": "code",
   "execution_count": 127,
   "metadata": {},
   "outputs": [],
   "source": [
    "x = torch.tensor([1.0, 2.0, 3.0])"
   ]
  },
  {
   "cell_type": "code",
   "execution_count": 133,
   "metadata": {},
   "outputs": [
    {
     "data": {
      "text/plain": [
       "tensor([0.0900, 0.2447, 0.6652])"
      ]
     },
     "execution_count": 133,
     "metadata": {},
     "output_type": "execute_result"
    }
   ],
   "source": [
    "softmax(x)"
   ]
  },
  {
   "cell_type": "code",
   "execution_count": 130,
   "metadata": {},
   "outputs": [
    {
     "data": {
      "text/plain": [
       "tensor(1.)"
      ]
     },
     "execution_count": 130,
     "metadata": {},
     "output_type": "execute_result"
    }
   ],
   "source": [
    "softmax(x).sum()"
   ]
  },
  {
   "cell_type": "code",
   "execution_count": 143,
   "metadata": {},
   "outputs": [
    {
     "data": {
      "text/plain": [
       "tensor([[0.0900, 0.2447, 0.6652],\n",
       "        [0.0900, 0.2447, 0.6652]])"
      ]
     },
     "execution_count": 143,
     "metadata": {},
     "output_type": "execute_result"
    }
   ],
   "source": [
    "softmax = nn.Softmax(dim=1)\n",
    "x = torch.tensor([[1.0, 2.0, 3.0], [1.0, 2.0, 3.0]])\n",
    "softmax(x)"
   ]
  },
  {
   "cell_type": "code",
   "execution_count": 145,
   "metadata": {},
   "outputs": [
    {
     "data": {
      "text/plain": [
       "torch.Size([2, 3])"
      ]
     },
     "execution_count": 145,
     "metadata": {},
     "output_type": "execute_result"
    }
   ],
   "source": [
    "x.shape"
   ]
  },
  {
   "cell_type": "code",
   "execution_count": 199,
   "metadata": {},
   "outputs": [],
   "source": [
    "model = nn.Sequential(\n",
    "    nn.Linear(3072, 512),\n",
    "    nn.Tanh(),\n",
    "    nn.Linear(512, n_out),\n",
    "    nn.Softmax(dim=1)\n",
    ")"
   ]
  },
  {
   "cell_type": "code",
   "execution_count": 200,
   "metadata": {},
   "outputs": [
    {
     "name": "stderr",
     "output_type": "stream",
     "text": [
      "Clipping input data to the valid range for imshow with RGB data ([0..1] for floats or [0..255] for integers).\n"
     ]
    },
    {
     "data": {
      "image/png": "[encoded data removed]",
      "text/plain": [
       "<Figure size 640x480 with 1 Axes>"
      ]
     },
     "metadata": {},
     "output_type": "display_data"
    }
   ],
   "source": [
    "img, label = cifar2[0]\n",
    "\n",
    "plt.imshow(img.permute(1, 2, 0))\n",
    "plt.show()"
   ]
  },
  {
   "cell_type": "code",
   "execution_count": 201,
   "metadata": {},
   "outputs": [
    {
     "data": {
      "text/plain": [
       "torch.Size([1, 3072])"
      ]
     },
     "execution_count": 201,
     "metadata": {},
     "output_type": "execute_result"
    }
   ],
   "source": [
    "img_batch = img.view(-1).unsqueeze(0)\n",
    "img_batch.shape"
   ]
  },
  {
   "cell_type": "code",
   "execution_count": 202,
   "metadata": {},
   "outputs": [
    {
     "data": {
      "text/plain": [
       "tensor([[0.4803, 0.5197]], grad_fn=<SoftmaxBackward0>)"
      ]
     },
     "execution_count": 202,
     "metadata": {},
     "output_type": "execute_result"
    }
   ],
   "source": [
    "out = model(img_batch)\n",
    "out"
   ]
  },
  {
   "cell_type": "code",
   "execution_count": 203,
   "metadata": {},
   "outputs": [
    {
     "data": {
      "text/plain": [
       "tensor([1])"
      ]
     },
     "execution_count": 203,
     "metadata": {},
     "output_type": "execute_result"
    }
   ],
   "source": [
    "_, index = torch.max(out, dim=1)\n",
    "index"
   ]
  },
  {
   "cell_type": "code",
   "execution_count": 204,
   "metadata": {},
   "outputs": [],
   "source": [
    "model = nn.Sequential(\n",
    "    nn.Linear(3072, 512),\n",
    "    nn.Tanh(),\n",
    "    nn.Linear(512, n_out),\n",
    "    nn.LogSoftmax(dim=1)\n",
    ")"
   ]
  },
  {
   "cell_type": "code",
   "execution_count": 205,
   "metadata": {},
   "outputs": [],
   "source": [
    "loss = nn.NLLLoss()"
   ]
  },
  {
   "cell_type": "code",
   "execution_count": 206,
   "metadata": {},
   "outputs": [
    {
     "data": {
      "text/plain": [
       "torch.Size([1, 3072])"
      ]
     },
     "execution_count": 206,
     "metadata": {},
     "output_type": "execute_result"
    }
   ],
   "source": [
    "img.view(-1).unsqueeze(0).shape"
   ]
  },
  {
   "cell_type": "code",
   "execution_count": 207,
   "metadata": {},
   "outputs": [
    {
     "data": {
      "text/plain": [
       "tensor(0.9096, grad_fn=<NllLossBackward0>)"
      ]
     },
     "execution_count": 207,
     "metadata": {},
     "output_type": "execute_result"
    }
   ],
   "source": [
    "img, label = cifar2[0]\n",
    "\n",
    "out = model(img.view(-1).unsqueeze(0))\n",
    "\n",
    "loss(out, torch.tensor([label]))"
   ]
  },
  {
   "cell_type": "code",
   "execution_count": 209,
   "metadata": {},
   "outputs": [
    {
     "name": "stdout",
     "output_type": "stream",
     "text": [
      "Эпоха: 0,           Потеря: 0.4846811890602112,           Эпоха заняла времени: 1с,           Оставшееся время: 118с\n",
      "Эпоха: 1,           Потеря: 0.5619684457778931,           Эпоха заняла времени: 1с,           Оставшееся время: 116с\n",
      "Эпоха: 2,           Потеря: 0.3379323184490204,           Эпоха заняла времени: 1с,           Оставшееся время: 111с\n",
      "Эпоха: 3,           Потеря: 0.6634566187858582,           Эпоха заняла времени: 1с,           Оставшееся время: 116с\n",
      "Эпоха: 4,           Потеря: 0.27849894762039185,           Эпоха заняла времени: 1с,           Оставшееся время: 113с\n",
      "Эпоха: 5,           Потеря: 0.5296955108642578,           Эпоха заняла времени: 1с,           Оставшееся время: 109с\n",
      "Эпоха: 6,           Потеря: 0.3956037163734436,           Эпоха заняла времени: 1с,           Оставшееся время: 104с\n",
      "Эпоха: 7,           Потеря: 0.34387654066085815,           Эпоха заняла времени: 1с,           Оставшееся время: 106с\n",
      "Эпоха: 8,           Потеря: 0.4589279294013977,           Эпоха заняла времени: 1с,           Оставшееся время: 104с\n",
      "Эпоха: 9,           Потеря: 0.18382768332958221,           Эпоха заняла времени: 1с,           Оставшееся время: 105с\n",
      "Эпоха: 10,           Потеря: 0.23226957023143768,           Эпоха заняла времени: 1с,           Оставшееся время: 102с\n",
      "Эпоха: 11,           Потеря: 0.4678856432437897,           Эпоха заняла времени: 1с,           Оставшееся время: 108с\n",
      "Эпоха: 12,           Потеря: 0.2979082465171814,           Эпоха заняла времени: 1с,           Оставшееся время: 102с\n",
      "Эпоха: 13,           Потеря: 0.41354990005493164,           Эпоха заняла времени: 1с,           Оставшееся время: 104с\n",
      "Эпоха: 14,           Потеря: 0.4768780469894409,           Эпоха заняла времени: 1с,           Оставшееся время: 99с\n",
      "Эпоха: 15,           Потеря: 0.2709842324256897,           Эпоха заняла времени: 1с,           Оставшееся время: 101с\n",
      "Эпоха: 16,           Потеря: 0.25703445076942444,           Эпоха заняла времени: 1с,           Оставшееся время: 98с\n",
      "Эпоха: 17,           Потеря: 0.261883944272995,           Эпоха заняла времени: 1с,           Оставшееся время: 94с\n",
      "Эпоха: 18,           Потеря: 0.4835893213748932,           Эпоха заняла времени: 1с,           Оставшееся время: 94с\n",
      "Эпоха: 19,           Потеря: 0.549010694026947,           Эпоха заняла времени: 1с,           Оставшееся время: 91с\n",
      "Эпоха: 20,           Потеря: 0.44699862599372864,           Эпоха заняла времени: 1с,           Оставшееся время: 95с\n",
      "Эпоха: 21,           Потеря: 0.3120010793209076,           Эпоха заняла времени: 1с,           Оставшееся время: 88с\n",
      "Эпоха: 22,           Потеря: 0.37363046407699585,           Эпоха заняла времени: 1с,           Оставшееся время: 90с\n",
      "Эпоха: 23,           Потеря: 0.29533302783966064,           Эпоха заняла времени: 1с,           Оставшееся время: 89с\n",
      "Эпоха: 24,           Потеря: 0.1636449098587036,           Эпоха заняла времени: 1с,           Оставшееся время: 89с\n",
      "Эпоха: 25,           Потеря: 0.3304905891418457,           Эпоха заняла времени: 1с,           Оставшееся время: 83с\n",
      "Эпоха: 26,           Потеря: 0.14084741473197937,           Эпоха заняла времени: 1с,           Оставшееся время: 84с\n",
      "Эпоха: 27,           Потеря: 0.6089446544647217,           Эпоха заняла времени: 1с,           Оставшееся время: 84с\n",
      "Эпоха: 28,           Потеря: 0.13959550857543945,           Эпоха заняла времени: 1с,           Оставшееся время: 81с\n",
      "Эпоха: 29,           Потеря: 0.11107823252677917,           Эпоха заняла времени: 1с,           Оставшееся время: 82с\n",
      "Эпоха: 30,           Потеря: 0.30925387144088745,           Эпоха заняла времени: 1с,           Оставшееся время: 82с\n",
      "Эпоха: 31,           Потеря: 0.3820098340511322,           Эпоха заняла времени: 1с,           Оставшееся время: 78с\n",
      "Эпоха: 32,           Потеря: 0.2858335077762604,           Эпоха заняла времени: 1с,           Оставшееся время: 77с\n",
      "Эпоха: 33,           Потеря: 0.041372522711753845,           Эпоха заняла времени: 1с,           Оставшееся время: 75с\n",
      "Эпоха: 34,           Потеря: 0.10164810717105865,           Эпоха заняла времени: 1с,           Оставшееся время: 73с\n",
      "Эпоха: 35,           Потеря: 0.17617490887641907,           Эпоха заняла времени: 1с,           Оставшееся время: 74с\n",
      "Эпоха: 36,           Потеря: 0.08811166137456894,           Эпоха заняла времени: 1с,           Оставшееся время: 73с\n",
      "Эпоха: 37,           Потеря: 0.042877670377492905,           Эпоха заняла времени: 1с,           Оставшееся время: 71с\n",
      "Эпоха: 38,           Потеря: 0.08083020895719528,           Эпоха заняла времени: 1с,           Оставшееся время: 69с\n",
      "Эпоха: 39,           Потеря: 0.1335802674293518,           Эпоха заняла времени: 1с,           Оставшееся время: 69с\n",
      "Эпоха: 40,           Потеря: 0.2937242388725281,           Эпоха заняла времени: 1с,           Оставшееся время: 66с\n",
      "Эпоха: 41,           Потеря: 0.13980910181999207,           Эпоха заняла времени: 1с,           Оставшееся время: 65с\n",
      "Эпоха: 42,           Потеря: 0.09556923806667328,           Эпоха заняла времени: 1с,           Оставшееся время: 63с\n",
      "Эпоха: 43,           Потеря: 0.049273621290922165,           Эпоха заняла времени: 1с,           Оставшееся время: 62с\n",
      "Эпоха: 44,           Потеря: 0.04816732555627823,           Эпоха заняла времени: 1с,           Оставшееся время: 63с\n",
      "Эпоха: 45,           Потеря: 0.09212034940719604,           Эпоха заняла времени: 1с,           Оставшееся время: 60с\n",
      "Эпоха: 46,           Потеря: 0.09962040930986404,           Эпоха заняла времени: 1с,           Оставшееся время: 61с\n",
      "Эпоха: 47,           Потеря: 0.04011518508195877,           Эпоха заняла времени: 1с,           Оставшееся время: 59с\n",
      "Эпоха: 48,           Потеря: 0.19597738981246948,           Эпоха заняла времени: 1с,           Оставшееся время: 57с\n",
      "Эпоха: 49,           Потеря: 0.04987286776304245,           Эпоха заняла времени: 1с,           Оставшееся время: 57с\n",
      "Эпоха: 50,           Потеря: 0.06172400712966919,           Эпоха заняла времени: 1с,           Оставшееся время: 55с\n",
      "Эпоха: 51,           Потеря: 0.061351675540208817,           Эпоха заняла времени: 1с,           Оставшееся время: 54с\n",
      "Эпоха: 52,           Потеря: 0.10622090101242065,           Эпоха заняла времени: 1с,           Оставшееся время: 53с\n",
      "Эпоха: 53,           Потеря: 0.040314722806215286,           Эпоха заняла времени: 1с,           Оставшееся время: 52с\n",
      "Эпоха: 54,           Потеря: 0.045682284981012344,           Эпоха заняла времени: 1с,           Оставшееся время: 50с\n",
      "Эпоха: 55,           Потеря: 0.1163957342505455,           Эпоха заняла времени: 1с,           Оставшееся время: 51с\n",
      "Эпоха: 56,           Потеря: 0.17669105529785156,           Эпоха заняла времени: 1с,           Оставшееся время: 48с\n",
      "Эпоха: 57,           Потеря: 0.06216886639595032,           Эпоха заняла времени: 1с,           Оставшееся время: 50с\n",
      "Эпоха: 58,           Потеря: 0.22655348479747772,           Эпоха заняла времени: 1с,           Оставшееся время: 50с\n",
      "Эпоха: 59,           Потеря: 0.027652019634842873,           Эпоха заняла времени: 1с,           Оставшееся время: 47с\n",
      "Эпоха: 60,           Потеря: 0.09356382489204407,           Эпоха заняла времени: 1с,           Оставшееся время: 45с\n",
      "Эпоха: 61,           Потеря: 0.029070721939206123,           Эпоха заняла времени: 1с,           Оставшееся время: 43с\n",
      "Эпоха: 62,           Потеря: 0.03943372890353203,           Эпоха заняла времени: 1с,           Оставшееся время: 42с\n",
      "Эпоха: 63,           Потеря: 0.07349652796983719,           Эпоха заняла времени: 1с,           Оставшееся время: 41с\n",
      "Эпоха: 64,           Потеря: 0.04565492272377014,           Эпоха заняла времени: 1с,           Оставшееся время: 42с\n",
      "Эпоха: 65,           Потеря: 0.027494730427861214,           Эпоха заняла времени: 1с,           Оставшееся время: 39с\n",
      "Эпоха: 66,           Потеря: 0.15462160110473633,           Эпоха заняла времени: 1с,           Оставшееся время: 38с\n",
      "Эпоха: 67,           Потеря: 0.05722867324948311,           Эпоха заняла времени: 1с,           Оставшееся время: 36с\n",
      "Эпоха: 68,           Потеря: 0.03394988551735878,           Эпоха заняла времени: 1с,           Оставшееся время: 35с\n",
      "Эпоха: 69,           Потеря: 0.03498167544603348,           Эпоха заняла времени: 1с,           Оставшееся время: 34с\n",
      "Эпоха: 70,           Потеря: 0.021147696301341057,           Эпоха заняла времени: 1с,           Оставшееся время: 33с\n",
      "Эпоха: 71,           Потеря: 0.028879985213279724,           Эпоха заняла времени: 1с,           Оставшееся время: 32с\n",
      "Эпоха: 72,           Потеря: 0.04226374253630638,           Эпоха заняла времени: 1с,           Оставшееся время: 32с\n",
      "Эпоха: 73,           Потеря: 0.04713703691959381,           Эпоха заняла времени: 1с,           Оставшееся время: 31с\n",
      "Эпоха: 74,           Потеря: 0.014077939093112946,           Эпоха заняла времени: 1с,           Оставшееся время: 29с\n",
      "Эпоха: 75,           Потеря: 0.016541820019483566,           Эпоха заняла времени: 1с,           Оставшееся время: 30с\n",
      "Эпоха: 76,           Потеря: 0.012508831918239594,           Эпоха заняла времени: 1с,           Оставшееся время: 28с\n",
      "Эпоха: 77,           Потеря: 0.02209513448178768,           Эпоха заняла времени: 1с,           Оставшееся время: 27с\n",
      "Эпоха: 78,           Потеря: 0.014442230574786663,           Эпоха заняла времени: 1с,           Оставшееся время: 25с\n",
      "Эпоха: 79,           Потеря: 0.03940103203058243,           Эпоха заняла времени: 1с,           Оставшееся время: 23с\n",
      "Эпоха: 80,           Потеря: 0.022753756493330002,           Эпоха заняла времени: 1с,           Оставшееся время: 23с\n",
      "Эпоха: 81,           Потеря: 0.023118499666452408,           Эпоха заняла времени: 1с,           Оставшееся время: 23с\n",
      "Эпоха: 82,           Потеря: 0.029514260590076447,           Эпоха заняла времени: 1с,           Оставшееся время: 22с\n",
      "Эпоха: 83,           Потеря: 0.02801390178501606,           Эпоха заняла времени: 1с,           Оставшееся время: 20с\n",
      "Эпоха: 84,           Потеря: 0.015959464013576508,           Эпоха заняла времени: 1с,           Оставшееся время: 18с\n",
      "Эпоха: 85,           Потеря: 0.013571088202297688,           Эпоха заняла времени: 1с,           Оставшееся время: 17с\n",
      "Эпоха: 86,           Потеря: 0.019214319065213203,           Эпоха заняла времени: 1с,           Оставшееся время: 16с\n",
      "Эпоха: 87,           Потеря: 0.023742031306028366,           Эпоха заняла времени: 1с,           Оставшееся время: 14с\n",
      "Эпоха: 88,           Потеря: 0.030304869636893272,           Эпоха заняла времени: 1с,           Оставшееся время: 14с\n",
      "Эпоха: 89,           Потеря: 0.040117040276527405,           Эпоха заняла времени: 1с,           Оставшееся время: 12с\n",
      "Эпоха: 90,           Потеря: 0.009417859837412834,           Эпоха заняла времени: 1с,           Оставшееся время: 11с\n",
      "Эпоха: 91,           Потеря: 0.01960291527211666,           Эпоха заняла времени: 1с,           Оставшееся время: 10с\n",
      "Эпоха: 92,           Потеря: 0.018770266324281693,           Эпоха заняла времени: 1с,           Оставшееся время: 9с\n",
      "Эпоха: 93,           Потеря: 0.004089313093572855,           Эпоха заняла времени: 1с,           Оставшееся время: 7с\n",
      "Эпоха: 94,           Потеря: 0.020622484385967255,           Эпоха заняла времени: 1с,           Оставшееся время: 6с\n",
      "Эпоха: 95,           Потеря: 0.022174576297402382,           Эпоха заняла времени: 1с,           Оставшееся время: 5с\n",
      "Эпоха: 96,           Потеря: 0.011693166568875313,           Эпоха заняла времени: 1с,           Оставшееся время: 4с\n",
      "Эпоха: 97,           Потеря: 0.03307846188545227,           Эпоха заняла времени: 1с,           Оставшееся время: 3с\n",
      "Эпоха: 98,           Потеря: 0.020627768710255623,           Эпоха заняла времени: 1с,           Оставшееся время: 2с\n",
      "Эпоха: 99,           Потеря: 0.02022460848093033,           Эпоха заняла времени: 1с,           Оставшееся время: 1с\n"
     ]
    }
   ],
   "source": [
    "import time\n",
    "\n",
    "train_loader = torch.utils.data.DataLoader(cifar2, batch_size=64, shuffle=True)\n",
    "\n",
    "model = nn.Sequential(\n",
    "    nn.Linear(3072, 512),\n",
    "    nn.Tanh(),\n",
    "    nn.Linear(512, n_out),\n",
    "    nn.LogSoftmax(dim=1)\n",
    ")\n",
    "\n",
    "lr = 1e-2\n",
    "optimizer = torch.optim.SGD(model.parameters(), lr=lr)\n",
    "loss_fn = nn.NLLLoss()\n",
    "n_epochs = 100\n",
    "\n",
    "for epoch in range(n_epochs):\n",
    "    start_time = time.time()\n",
    "    for imgs, labels in train_loader:\n",
    "        batch_size = imgs.shape[0]\n",
    "        outputs = model(imgs.view(batch_size, -1))\n",
    "        loss = loss_fn(outputs, labels)\n",
    "\n",
    "        optimizer.zero_grad()\n",
    "        loss.backward()\n",
    "        optimizer.step()\n",
    "\n",
    "    elapsed = time.time() - start_time\n",
    "    print(f'Эпоха: {epoch}, \\\n",
    "          Потеря: {float(loss)}, \\\n",
    "          Эпоха заняла времени: {int(elapsed)}с, \\\n",
    "          Оставшееся время: {int(elapsed * (n_epochs - epoch))}с')"
   ]
  },
  {
   "cell_type": "code",
   "execution_count": 231,
   "metadata": {},
   "outputs": [
    {
     "name": "stdout",
     "output_type": "stream",
     "text": [
      "Всего изображений в валидационной выборке: 2000\n",
      "Точность: 81.150000 процента\n"
     ]
    }
   ],
   "source": [
    "val_loader = torch.utils.data.DataLoader(\n",
    "    cifar2_val, batch_size=64, shuffle=False)\n",
    "\n",
    "print('Всего изображений в валидационной выборке:', len(cifar2_val))\n",
    "\n",
    "correct = 0\n",
    "total = 0\n",
    "\n",
    "with torch.no_grad():\n",
    "    for imgs, labels in val_loader:\n",
    "        batch_size = imgs.shape[0]\n",
    "        outputs = model(imgs.view(batch_size, -1))\n",
    "        _, predicted = torch.max(outputs, dim=1)\n",
    "        total += labels.shape[0]\n",
    "        correct += int((predicted == labels).sum())\n",
    "\n",
    "print('Точность: %f процента' % ((correct / total) * 100))"
   ]
  },
  {
   "cell_type": "code",
   "execution_count": 276,
   "metadata": {},
   "outputs": [
    {
     "name": "stdout",
     "output_type": "stream",
     "text": [
      "Эпоха: 0,           Потеря: 0.5571237802505493,           Точность на валидационной выборке: 0.7745,           Точность на обучающей выборке: 0.7836,           Эпоха заняла времени: 3с,           Оставшееся время: 377с\n",
      "Эпоха: 1,           Потеря: 0.2617862820625305,           Точность на валидационной выборке: 0.788,           Точность на обучающей выборке: 0.7915,           Эпоха заняла времени: 3с,           Оставшееся время: 355с\n",
      "Эпоха: 2,           Потеря: 0.34531375765800476,           Точность на валидационной выборке: 0.797,           Точность на обучающей выборке: 0.7989,           Эпоха заняла времени: 3с,           Оставшееся время: 337с\n",
      "Эпоха: 3,           Потеря: 0.6382802128791809,           Точность на валидационной выборке: 0.806,           Точность на обучающей выборке: 0.8032,           Эпоха заняла времени: 3с,           Оставшееся время: 298с\n",
      "Эпоха: 4,           Потеря: 0.18762560188770294,           Точность на валидационной выборке: 0.8035,           Точность на обучающей выборке: 0.8109,           Эпоха заняла времени: 2с,           Оставшееся время: 286с\n",
      "Эпоха: 5,           Потеря: 0.5962212681770325,           Точность на валидационной выборке: 0.8045,           Точность на обучающей выборке: 0.8079,           Эпоха заняла времени: 3с,           Оставшееся время: 312с\n",
      "Эпоха: 6,           Потеря: 0.4778970181941986,           Точность на валидационной выборке: 0.7825,           Точность на обучающей выборке: 0.8,           Эпоха заняла времени: 3с,           Оставшееся время: 301с\n",
      "Эпоха: 7,           Потеря: 0.6298102736473083,           Точность на валидационной выборке: 0.771,           Точность на обучающей выборке: 0.7971,           Эпоха заняла времени: 2с,           Оставшееся время: 278с\n",
      "Эпоха: 8,           Потеря: 0.16300082206726074,           Точность на валидационной выборке: 0.808,           Точность на обучающей выборке: 0.8294,           Эпоха заняла времени: 2с,           Оставшееся время: 272с\n",
      "Эпоха: 9,           Потеря: 0.45267125964164734,           Точность на валидационной выборке: 0.7475,           Точность на обучающей выборке: 0.788,           Эпоха заняла времени: 3с,           Оставшееся время: 279с\n",
      "Эпоха: 10,           Потеря: 0.2149128019809723,           Точность на валидационной выборке: 0.808,           Точность на обучающей выборке: 0.8311,           Эпоха заняла времени: 3с,           Оставшееся время: 277с\n",
      "Эпоха: 11,           Потеря: 0.3418506979942322,           Точность на валидационной выборке: 0.775,           Точность на обучающей выборке: 0.8201,           Эпоха заняла времени: 2с,           Оставшееся время: 257с\n",
      "Эпоха: 12,           Потеря: 0.3496086895465851,           Точность на валидационной выборке: 0.807,           Точность на обучающей выборке: 0.825,           Эпоха заняла времени: 3с,           Оставшееся время: 264с\n",
      "Эпоха: 13,           Потеря: 0.3691696226596832,           Точность на валидационной выборке: 0.813,           Точность на обучающей выборке: 0.8493,           Эпоха заняла времени: 3с,           Оставшееся время: 274с\n",
      "Эпоха: 14,           Потеря: 0.22702845931053162,           Точность на валидационной выборке: 0.8205,           Точность на обучающей выборке: 0.859,           Эпоха заняла времени: 3с,           Оставшееся время: 268с\n",
      "Эпоха: 15,           Потеря: 0.2938760221004486,           Точность на валидационной выборке: 0.815,           Точность на обучающей выборке: 0.8529,           Эпоха заняла времени: 3с,           Оставшееся время: 255с\n",
      "Эпоха: 16,           Потеря: 0.2854938805103302,           Точность на валидационной выборке: 0.8195,           Точность на обучающей выборке: 0.8622,           Эпоха заняла времени: 3с,           Оставшееся время: 254с\n",
      "Эпоха: 17,           Потеря: 0.37504202127456665,           Точность на валидационной выборке: 0.811,           Точность на обучающей выборке: 0.8729,           Эпоха заняла времени: 3с,           Оставшееся время: 258с\n",
      "Эпоха: 18,           Потеря: 0.3198738098144531,           Точность на валидационной выборке: 0.7895,           Точность на обучающей выборке: 0.8256,           Эпоха заняла времени: 3с,           Оставшееся время: 253с\n",
      "Эпоха: 19,           Потеря: 0.30191901326179504,           Точность на валидационной выборке: 0.804,           Точность на обучающей выборке: 0.8427,           Эпоха заняла времени: 3с,           Оставшееся время: 267с\n",
      "Эпоха: 20,           Потеря: 0.14667624235153198,           Точность на валидационной выборке: 0.794,           Точность на обучающей выборке: 0.8745,           Эпоха заняла времени: 3с,           Оставшееся время: 278с\n",
      "Эпоха: 21,           Потеря: 0.24602541327476501,           Точность на валидационной выборке: 0.8115,           Точность на обучающей выборке: 0.8617,           Эпоха заняла времени: 3с,           Оставшееся время: 288с\n",
      "Эпоха: 22,           Потеря: 0.33527490496635437,           Точность на валидационной выборке: 0.8055,           Точность на обучающей выборке: 0.857,           Эпоха заняла времени: 3с,           Оставшееся время: 284с\n",
      "Эпоха: 23,           Потеря: 0.17989689111709595,           Точность на валидационной выборке: 0.822,           Точность на обучающей выборке: 0.9015,           Эпоха заняла времени: 3с,           Оставшееся время: 268с\n",
      "Эпоха: 24,           Потеря: 0.24761557579040527,           Точность на валидационной выборке: 0.7855,           Точность на обучающей выборке: 0.8275,           Эпоха заняла времени: 3с,           Оставшееся время: 262с\n",
      "Эпоха: 25,           Потеря: 0.15734079480171204,           Точность на валидационной выборке: 0.783,           Точность на обучающей выборке: 0.8914,           Эпоха заняла времени: 3с,           Оставшееся время: 251с\n",
      "Эпоха: 26,           Потеря: 0.13908526301383972,           Точность на валидационной выборке: 0.813,           Точность на обучающей выборке: 0.8757,           Эпоха заняла времени: 3с,           Оставшееся время: 246с\n",
      "Эпоха: 27,           Потеря: 0.19953861832618713,           Точность на валидационной выборке: 0.799,           Точность на обучающей выборке: 0.9012,           Эпоха заняла времени: 3с,           Оставшееся время: 269с\n",
      "Эпоха: 28,           Потеря: 0.8935046195983887,           Точность на валидационной выборке: 0.503,           Точность на обучающей выборке: 0.5607,           Эпоха заняла времени: 3с,           Оставшееся время: 266с\n",
      "Эпоха: 29,           Потеря: 0.9152125716209412,           Точность на валидационной выборке: 0.794,           Точность на обучающей выборке: 0.9112,           Эпоха заняла времени: 3с,           Оставшееся время: 261с\n",
      "Эпоха: 30,           Потеря: 0.061755213886499405,           Точность на валидационной выборке: 0.8155,           Точность на обучающей выборке: 0.9315,           Эпоха заняла времени: 3с,           Оставшееся время: 252с\n",
      "Эпоха: 31,           Потеря: 0.1296694129705429,           Точность на валидационной выборке: 0.8185,           Точность на обучающей выборке: 0.9088,           Эпоха заняла времени: 3с,           Оставшееся время: 222с\n",
      "Эпоха: 32,           Потеря: 0.07440241426229477,           Точность на валидационной выборке: 0.8145,           Точность на обучающей выборке: 0.9237,           Эпоха заняла времени: 3с,           Оставшееся время: 220с\n",
      "Эпоха: 33,           Потеря: 0.27313587069511414,           Точность на валидационной выборке: 0.8195,           Точность на обучающей выборке: 0.9327,           Эпоха заняла времени: 3с,           Оставшееся время: 217с\n",
      "Эпоха: 34,           Потеря: 0.08633104711771011,           Точность на валидационной выборке: 0.819,           Точность на обучающей выборке: 0.9422,           Эпоха заняла времени: 3с,           Оставшееся время: 224с\n",
      "Эпоха: 35,           Потеря: 0.12102177739143372,           Точность на валидационной выборке: 0.7945,           Точность на обучающей выборке: 0.9399,           Эпоха заняла времени: 3с,           Оставшееся время: 206с\n",
      "Эпоха: 36,           Потеря: 0.1259247064590454,           Точность на валидационной выборке: 0.8085,           Точность на обучающей выборке: 0.9441,           Эпоха заняла времени: 3с,           Оставшееся время: 207с\n",
      "Эпоха: 37,           Потеря: 0.45584866404533386,           Точность на валидационной выборке: 0.7595,           Точность на обучающей выборке: 0.819,           Эпоха заняла времени: 3с,           Оставшееся время: 198с\n",
      "Эпоха: 38,           Потеря: 0.08505570888519287,           Точность на валидационной выборке: 0.8,           Точность на обучающей выборке: 0.9053,           Эпоха заняла времени: 3с,           Оставшееся время: 227с\n",
      "Эпоха: 39,           Потеря: 0.1584615558385849,           Точность на валидационной выборке: 0.722,           Точность на обучающей выборке: 0.9092,           Эпоха заняла времени: 3с,           Оставшееся время: 218с\n",
      "Эпоха: 40,           Потеря: 0.3370431661605835,           Точность на валидационной выборке: 0.7685,           Точность на обучающей выборке: 0.9146,           Эпоха заняла времени: 3с,           Оставшееся время: 205с\n",
      "Эпоха: 41,           Потеря: 0.06532368063926697,           Точность на валидационной выборке: 0.803,           Точность на обучающей выборке: 0.9735,           Эпоха заняла времени: 3с,           Оставшееся время: 196с\n",
      "Эпоха: 42,           Потеря: 0.17162351310253143,           Точность на валидационной выборке: 0.6725,           Точность на обучающей выборке: 0.7758,           Эпоха заняла времени: 3с,           Оставшееся время: 218с\n",
      "Эпоха: 43,           Потеря: 0.1864359974861145,           Точность на валидационной выборке: 0.7395,           Точность на обучающей выборке: 0.9072,           Эпоха заняла времени: 3с,           Оставшееся время: 200с\n",
      "Эпоха: 44,           Потеря: 0.10414496064186096,           Точность на валидационной выборке: 0.7985,           Точность на обучающей выборке: 0.9821,           Эпоха заняла времени: 3с,           Оставшееся время: 213с\n",
      "Эпоха: 45,           Потеря: 0.051541224122047424,           Точность на валидационной выборке: 0.78,           Точность на обучающей выборке: 0.9603,           Эпоха заняла времени: 3с,           Оставшееся время: 186с\n",
      "Эпоха: 46,           Потеря: 0.015606969594955444,           Точность на валидационной выборке: 0.797,           Точность на обучающей выборке: 0.975,           Эпоха заняла времени: 3с,           Оставшееся время: 192с\n",
      "Эпоха: 47,           Потеря: 0.1707657277584076,           Точность на валидационной выборке: 0.782,           Точность на обучающей выборке: 0.892,           Эпоха заняла времени: 3с,           Оставшееся время: 180с\n",
      "Эпоха: 48,           Потеря: 0.06627944856882095,           Точность на валидационной выборке: 0.807,           Точность на обучающей выборке: 0.9803,           Эпоха заняла времени: 3с,           Оставшееся время: 187с\n",
      "Эпоха: 49,           Потеря: 0.01711355149745941,           Точность на валидационной выборке: 0.8145,           Точность на обучающей выборке: 0.9897,           Эпоха заняла времени: 3с,           Оставшееся время: 197с\n",
      "Эпоха: 50,           Потеря: 0.17081871628761292,           Точность на валидационной выборке: 0.7885,           Точность на обучающей выборке: 0.9535,           Эпоха заняла времени: 3с,           Оставшееся время: 178с\n",
      "Эпоха: 51,           Потеря: 0.015833312645554543,           Точность на валидационной выборке: 0.8255,           Точность на обучающей выборке: 0.9856,           Эпоха заняла времени: 3с,           Оставшееся время: 184с\n",
      "Эпоха: 52,           Потеря: 0.05236917734146118,           Точность на валидационной выборке: 0.7675,           Точность на обучающей выборке: 0.9809,           Эпоха заняла времени: 3с,           Оставшееся время: 164с\n",
      "Эпоха: 53,           Потеря: 0.01138895470649004,           Точность на валидационной выборке: 0.8145,           Точность на обучающей выборке: 0.9935,           Эпоха заняла времени: 3с,           Оставшееся время: 163с\n",
      "Эпоха: 54,           Потеря: 0.0073833460919559,           Точность на валидационной выборке: 0.82,           Точность на обучающей выборке: 0.992,           Эпоха заняла времени: 3с,           Оставшееся время: 165с\n",
      "Эпоха: 55,           Потеря: 0.15608403086662292,           Точность на валидационной выборке: 0.811,           Точность на обучающей выборке: 0.9555,           Эпоха заняла времени: 3с,           Оставшееся время: 151с\n",
      "Эпоха: 56,           Потеря: 0.0019430360989645123,           Точность на валидационной выборке: 0.8175,           Точность на обучающей выборке: 0.9967,           Эпоха заняла времени: 3с,           Оставшееся время: 172с\n",
      "Эпоха: 57,           Потеря: 0.006640525069087744,           Точность на валидационной выборке: 0.797,           Точность на обучающей выборке: 0.9957,           Эпоха заняла времени: 3с,           Оставшееся время: 147с\n",
      "Эпоха: 58,           Потеря: 0.010775696486234665,           Точность на валидационной выборке: 0.8205,           Точность на обучающей выборке: 0.9941,           Эпоха заняла времени: 3с,           Оставшееся время: 128с\n",
      "Эпоха: 59,           Потеря: 0.022446537390351295,           Точность на валидационной выборке: 0.7605,           Точность на обучающей выборке: 0.9657,           Эпоха заняла времени: 3с,           Оставшееся время: 141с\n",
      "Эпоха: 60,           Потеря: 0.01335199922323227,           Точность на валидационной выборке: 0.8145,           Точность на обучающей выборке: 0.995,           Эпоха заняла времени: 3с,           Оставшееся время: 148с\n",
      "Эпоха: 61,           Потеря: 1.1746494770050049,           Точность на валидационной выборке: 0.5255,           Точность на обучающей выборке: 0.581,           Эпоха заняла времени: 3с,           Оставшееся время: 143с\n",
      "Эпоха: 62,           Потеря: 0.005111594218760729,           Точность на валидационной выборке: 0.7935,           Точность на обучающей выборке: 0.9957,           Эпоха заняла времени: 3с,           Оставшееся время: 139с\n",
      "Эпоха: 63,           Потеря: 0.021284732967615128,           Точность на валидационной выборке: 0.8035,           Точность на обучающей выборке: 0.9959,           Эпоха заняла времени: 3с,           Оставшееся время: 115с\n",
      "Эпоха: 64,           Потеря: 0.005435151979327202,           Точность на валидационной выборке: 0.814,           Точность на обучающей выборке: 0.9989,           Эпоха заняла времени: 3с,           Оставшееся время: 110с\n",
      "Эпоха: 65,           Потеря: 0.006214197259396315,           Точность на валидационной выборке: 0.8045,           Точность на обучающей выборке: 0.9983,           Эпоха заняла времени: 3с,           Оставшееся время: 117с\n",
      "Эпоха: 66,           Потеря: 0.009591001085937023,           Точность на валидационной выборке: 0.8095,           Точность на обучающей выборке: 0.9983,           Эпоха заняла времени: 3с,           Оставшееся время: 116с\n",
      "Эпоха: 67,           Потеря: 0.010174795985221863,           Точность на валидационной выборке: 0.806,           Точность на обучающей выборке: 0.9987,           Эпоха заняла времени: 3с,           Оставшееся время: 116с\n",
      "Эпоха: 68,           Потеря: 0.007759949658066034,           Точность на валидационной выборке: 0.8075,           Точность на обучающей выборке: 0.9986,           Эпоха заняла времени: 3с,           Оставшееся время: 121с\n",
      "Эпоха: 69,           Потеря: 0.001723236171528697,           Точность на валидационной выборке: 0.805,           Точность на обучающей выборке: 0.9995,           Эпоха заняла времени: 3с,           Оставшееся время: 120с\n",
      "Эпоха: 70,           Потеря: 0.0009234274621121585,           Точность на валидационной выборке: 0.817,           Точность на обучающей выборке: 0.9961,           Эпоха заняла времени: 3с,           Оставшееся время: 117с\n",
      "Эпоха: 71,           Потеря: 0.0010465225204825401,           Точность на валидационной выборке: 0.794,           Точность на обучающей выборке: 0.9986,           Эпоха заняла времени: 4с,           Оставшееся время: 117с\n",
      "Эпоха: 72,           Потеря: 0.0026816679164767265,           Точность на валидационной выборке: 0.8105,           Точность на обучающей выборке: 0.9995,           Эпоха заняла времени: 3с,           Оставшееся время: 104с\n",
      "Эпоха: 73,           Потеря: 0.0007770706433802843,           Точность на валидационной выборке: 0.8155,           Точность на обучающей выборке: 0.9992,           Эпоха заняла времени: 3с,           Оставшееся время: 94с\n",
      "Эпоха: 74,           Потеря: 0.004311780445277691,           Точность на валидационной выборке: 0.815,           Точность на обучающей выборке: 0.9997,           Эпоха заняла времени: 3с,           Оставшееся время: 82с\n",
      "Эпоха: 75,           Потеря: 0.001979550113901496,           Точность на валидационной выборке: 0.817,           Точность на обучающей выборке: 0.9895,           Эпоха заняла времени: 3с,           Оставшееся время: 92с\n",
      "Эпоха: 76,           Потеря: 0.006328399293124676,           Точность на валидационной выборке: 0.806,           Точность на обучающей выборке: 0.9996,           Эпоха заняла времени: 3с,           Оставшееся время: 92с\n",
      "Эпоха: 77,           Потеря: 0.006869661156088114,           Точность на валидационной выборке: 0.806,           Точность на обучающей выборке: 0.9998,           Эпоха заняла времени: 3с,           Оставшееся время: 89с\n",
      "Эпоха: 78,           Потеря: 0.002944726264104247,           Точность на валидационной выборке: 0.8155,           Точность на обучающей выборке: 0.9981,           Эпоха заняла времени: 4с,           Оставшееся время: 88с\n",
      "Эпоха: 79,           Потеря: 0.019338147714734077,           Точность на валидационной выборке: 0.8125,           Точность на обучающей выборке: 0.9987,           Эпоха заняла времени: 3с,           Оставшееся время: 77с\n",
      "Эпоха: 80,           Потеря: 0.001644881791435182,           Точность на валидационной выборке: 0.813,           Точность на обучающей выборке: 0.9998,           Эпоха заняла времени: 3с,           Оставшееся время: 76с\n",
      "Эпоха: 81,           Потеря: 0.0023981803096830845,           Точность на валидационной выборке: 0.804,           Точность на обучающей выборке: 0.9998,           Эпоха заняла времени: 3с,           Оставшееся время: 69с\n",
      "Эпоха: 82,           Потеря: 0.0046890294179320335,           Точность на валидационной выборке: 0.807,           Точность на обучающей выборке: 0.9999,           Эпоха заняла времени: 3с,           Оставшееся время: 67с\n",
      "Эпоха: 83,           Потеря: 0.002273912075906992,           Точность на валидационной выборке: 0.805,           Точность на обучающей выборке: 0.9995,           Эпоха заняла времени: 3с,           Оставшееся время: 63с\n",
      "Эпоха: 84,           Потеря: 0.0015700889052823186,           Точность на валидационной выборке: 0.8155,           Точность на обучающей выборке: 0.9998,           Эпоха заняла времени: 3с,           Оставшееся время: 55с\n",
      "Эпоха: 85,           Потеря: 0.002217470435425639,           Точность на валидационной выборке: 0.809,           Точность на обучающей выборке: 0.9988,           Эпоха заняла времени: 3с,           Оставшееся время: 56с\n",
      "Эпоха: 86,           Потеря: 0.07187525182962418,           Точность на валидационной выборке: 0.687,           Точность на обучающей выборке: 0.8608,           Эпоха заняла времени: 3с,           Оставшееся время: 53с\n",
      "Эпоха: 87,           Потеря: 0.0033711306750774384,           Точность на валидационной выборке: 0.797,           Точность на обучающей выборке: 0.9999,           Эпоха заняла времени: 3с,           Оставшееся время: 48с\n",
      "Эпоха: 88,           Потеря: 0.0007322942838072777,           Точность на валидационной выборке: 0.8065,           Точность на обучающей выборке: 0.9999,           Эпоха заняла времени: 3с,           Оставшееся время: 45с\n",
      "Эпоха: 89,           Потеря: 0.0013741275761276484,           Точность на валидационной выборке: 0.813,           Точность на обучающей выборке: 0.9999,           Эпоха заняла времени: 3с,           Оставшееся время: 41с\n",
      "Эпоха: 90,           Потеря: 0.0022113253362476826,           Точность на валидационной выборке: 0.8065,           Точность на обучающей выборке: 1.0,           Эпоха заняла времени: 3с,           Оставшееся время: 36с\n",
      "Эпоха: 91,           Потеря: 0.007291220128536224,           Точность на валидационной выборке: 0.8055,           Точность на обучающей выборке: 0.9999,           Эпоха заняла времени: 3с,           Оставшееся время: 29с\n",
      "Эпоха: 92,           Потеря: 0.0033817715011537075,           Точность на валидационной выборке: 0.8085,           Точность на обучающей выборке: 1.0,           Эпоха заняла времени: 3с,           Оставшееся время: 25с\n",
      "Эпоха: 93,           Потеря: 0.0012399271363392472,           Точность на валидационной выборке: 0.8095,           Точность на обучающей выборке: 1.0,           Эпоха заняла времени: 3с,           Оставшееся время: 22с\n",
      "Эпоха: 94,           Потеря: 0.0005326082464307547,           Точность на валидационной выборке: 0.809,           Точность на обучающей выборке: 1.0,           Эпоха заняла времени: 3с,           Оставшееся время: 21с\n",
      "Эпоха: 95,           Потеря: 0.0006881316658109426,           Точность на валидационной выборке: 0.812,           Точность на обучающей выборке: 1.0,           Эпоха заняла времени: 3с,           Оставшееся время: 17с\n",
      "Эпоха: 96,           Потеря: 0.0005430956371128559,           Точность на валидационной выборке: 0.8065,           Точность на обучающей выборке: 1.0,           Эпоха заняла времени: 3с,           Оставшееся время: 12с\n",
      "Эпоха: 97,           Потеря: 0.001999654108658433,           Точность на валидационной выборке: 0.812,           Точность на обучающей выборке: 1.0,           Эпоха заняла времени: 3с,           Оставшееся время: 9с\n",
      "Эпоха: 98,           Потеря: 0.001899399096146226,           Точность на валидационной выборке: 0.8115,           Точность на обучающей выборке: 1.0,           Эпоха заняла времени: 3с,           Оставшееся время: 6с\n",
      "Эпоха: 99,           Потеря: 0.0009942781180143356,           Точность на валидационной выборке: 0.8095,           Точность на обучающей выборке: 1.0,           Эпоха заняла времени: 3с,           Оставшееся время: 3с\n"
     ]
    },
    {
     "data": {
      "image/png": "[encoded data removed]",
      "text/plain": [
       "<Figure size 640x480 with 1 Axes>"
      ]
     },
     "metadata": {},
     "output_type": "display_data"
    }
   ],
   "source": [
    "# Мы создали модель, способную связывать каждый из пикселей с любым другим\n",
    "# пикселем изображения, вне зависимости от их пространственного расположения. \n",
    "# Впрочем, мы сделали обоснованное предположение, что расположенные\n",
    "# ближе друг к другу пиксели теоретически намного сильнее связаны. Это значит,\n",
    "# что мы обучаем не инвариантный относительно сдвига классификатор, так\n",
    "# что нам приходится расходовать немало разрешающих возможностей модели\n",
    "# на усвоение сдвинутых копий изображений, чтобы можно было надеяться на\n",
    "# хорошие результаты на проверочном наборе данных. Должен же существовать\n",
    "# способ получше, правда? (стр. 246) PyTorch Освещая глубокое обучение\n",
    "\n",
    "import time\n",
    "\n",
    "train_loader = torch.utils.data.DataLoader(cifar2, batch_size=64, shuffle=True)\n",
    "\n",
    "# Переопределение модели (улучшаем разрешающую способность модели)\n",
    "model = nn.Sequential(\n",
    "    nn.Linear(3072, 1024),\n",
    "    nn.Tanh(),\n",
    "    nn.Linear(1024, 512),\n",
    "    nn.Tanh(),\n",
    "    nn.Linear(512, 128),\n",
    "    nn.Tanh(),\n",
    "    nn.Linear(128, n_out),\n",
    "    nn.LogSoftmax(dim=1)\n",
    ")\n",
    "\n",
    "lr = 1e-2\n",
    "optimizer = torch.optim.SGD(model.parameters(), lr=lr)\n",
    "loss_fn = nn.NLLLoss()\n",
    "n_epochs = 100\n",
    "\n",
    "epochs = range(n_epochs)\n",
    "val_accuracy = []\n",
    "train_accuracy = []\n",
    "\n",
    "for epoch in epochs:\n",
    "    start_time = time.time()\n",
    "    for imgs, labels in train_loader:\n",
    "        batch_size = imgs.shape[0]\n",
    "        outputs = model(imgs.view(batch_size, -1))\n",
    "        loss = loss_fn(outputs, labels)\n",
    "\n",
    "        optimizer.zero_grad()\n",
    "        loss.backward()\n",
    "        optimizer.step()\n",
    "\n",
    "    correct = 0\n",
    "    total = 0\n",
    "    with torch.no_grad():\n",
    "        for imgs, labels in val_loader:\n",
    "            batch_size = imgs.shape[0]\n",
    "            outputs = model(imgs.view(batch_size, -1))\n",
    "            _, predicted = torch.max(outputs, dim=1)\n",
    "            total += labels.shape[0]\n",
    "            correct += int((predicted == labels).sum())\n",
    "    val_accuracy.append(correct / total)\n",
    "\n",
    "    correct = 0\n",
    "    total = 0\n",
    "    with torch.no_grad():\n",
    "        for imgs, labels in train_loader:\n",
    "            batch_size = imgs.shape[0]\n",
    "            outputs = model(imgs.view(batch_size, -1))\n",
    "            _, predicted = torch.max(outputs, dim=1)\n",
    "            total += labels.shape[0]\n",
    "            correct += int((predicted == labels).sum())\n",
    "    train_accuracy.append(correct / total)\n",
    "\n",
    "    elapsed = time.time() - start_time\n",
    "    print(f'Эпоха: {epoch}, \\\n",
    "          Потеря: {float(loss)}, \\\n",
    "          Точность на валидационной выборке: {val_accuracy[-1]}, \\\n",
    "          Точность на обучающей выборке: {train_accuracy[-1]}, \\\n",
    "          Эпоха заняла времени: {int(elapsed)}с, \\\n",
    "          Оставшееся время: {int(elapsed * (n_epochs - epoch))}с')\n",
    "\n",
    "plt.plot(epochs, val_accuracy, label='Validation Accuracy')\n",
    "plt.plot(epochs, train_accuracy, label='Training Accuracy')\n",
    "plt.xlabel('Epochs')\n",
    "plt.ylabel('Accuracy')\n",
    "plt.title('Validation and Training Accuracy over Epochs')\n",
    "plt.legend()\n",
    "plt.show()"
   ]
  },
  {
   "cell_type": "markdown",
   "metadata": {},
   "source": []
  },
  {
   "cell_type": "code",
   "execution_count": 277,
   "metadata": {},
   "outputs": [
    {
     "data": {
      "text/plain": [
       "(3737474, [3145728, 1024, 524288, 512, 65536, 128, 256, 2])"
      ]
     },
     "execution_count": 277,
     "metadata": {},
     "output_type": "execute_result"
    }
   ],
   "source": [
    "numel_list = [p.numel() for p in model.parameters() if p.requires_grad == True]\n",
    "sum(numel_list), numel_list"
   ]
  },
  {
   "cell_type": "code",
   "execution_count": 1,
   "metadata": {},
   "outputs": [
    {
     "ename": "NameError",
     "evalue": "name 'nn' is not defined",
     "output_type": "error",
     "traceback": [
      "\u001b[1;31m---------------------------------------------------------------------------\u001b[0m",
      "\u001b[1;31mNameError\u001b[0m                                 Traceback (most recent call last)",
      "Cell \u001b[1;32mIn[1], line 1\u001b[0m\n\u001b[1;32m----> 1\u001b[0m linear \u001b[38;5;241m=\u001b[39m nn\u001b[38;5;241m.\u001b[39mLinear(\u001b[38;5;241m3072\u001b[39m, \u001b[38;5;241m1024\u001b[39m)\n\u001b[0;32m      2\u001b[0m linear\u001b[38;5;241m.\u001b[39mweight\u001b[38;5;241m.\u001b[39mshape, linear\u001b[38;5;241m.\u001b[39mbias\u001b[38;5;241m.\u001b[39mshape\n",
      "\u001b[1;31mNameError\u001b[0m: name 'nn' is not defined"
     ]
    }
   ],
   "source": [
    "linear = nn.Linear(3072, 1024)\n",
    "linear.weight.shape, linear.bias.shape"
   ]
  },
  {
   "cell_type": "code",
   "execution_count": null,
   "metadata": {},
   "outputs": [],
   "source": []
  }
 ],
 "metadata": {
  "kernelspec": {
   "display_name": "base",
   "language": "python",
   "name": "python3"
  },
  "language_info": {
   "codemirror_mode": {
    "name": "ipython",
    "version": 3
   },
   "file_extension": ".py",
   "mimetype": "text/x-python",
   "name": "python",
   "nbconvert_exporter": "python",
   "pygments_lexer": "ipython3",
   "version": "3.11.7"
  }
 },
 "nbformat": 4,
 "nbformat_minor": 2
}
