{
 "cells": [
  {
   "cell_type": "markdown",
   "metadata": {
    "id": "mlCWlQ2pTc88"
   },
   "source": [
    "<a href=\"https://colab.research.google.com/github/healthonrails/annolid/blob/main/docs/tutorials/Annolid_on_Detectron2_Tutorial.ipynb\" target=\"_blank\"><img src=\"https://colab.research.google.com/assets/colab-badge.svg\" alt=\"Open In Colab\"/></a>"
   ]
  },
  {
   "cell_type": "markdown",
   "metadata": {
    "id": "QHnVupBBn9eR"
   },
   "source": [
    "# Annolid on Detectron2 Tutorial\n",
    "\n",
    "<img src=\"https://dl.fbaipublicfiles.com/detectron2/Detectron2-Logo-Horz.png\" width=\"500\">\n",
    "\n",
    "Welcome to Annolid on detectron2! This is modified from the official colab tutorial of detectron2. Here, we will go through some basics usage of detectron2, including the following:\n",
    "* Run inference on images or videos, with an existing detectron2 model\n",
    "* Train a detectron2 model on a new dataset\n",
    "\n",
    "You can make a copy of this tutorial by \"File -> Open in playground mode\" and play with it yourself. __DO NOT__ request access to this tutorial.\n"
   ]
  },
  {
   "cell_type": "markdown",
   "metadata": {
    "id": "vM54r6jlKTII"
   },
   "source": [
    "# Install detectron2"
   ]
  },
  {
   "cell_type": "code",
   "execution_count": 1,
   "metadata": {
    "colab": {
     "background_save": true,
     "base_uri": "https://localhost:8080/"
    },
    "id": "9_FzH13EjseR",
    "outputId": "7294640d-c005-41f3-a622-cdec101d826c",
    "ExecuteTime": {
     "end_time": "2024-03-23T11:17:28.015823Z",
     "start_time": "2024-03-23T11:16:59.409007Z"
    }
   },
   "outputs": [
    {
     "name": "stdout",
     "output_type": "stream",
     "text": [
      "Requirement already satisfied: pyyaml==6.0.1 in c:\\users\\kgibo\\anaconda3\\lib\\site-packages (6.0.1)\n"
     ]
    },
    {
     "name": "stderr",
     "output_type": "stream",
     "text": [
      "ERROR: Invalid requirement: \"'git+https://github.com/facebookresearch/detectron2.git'\"\n"
     ]
    },
    {
     "name": "stdout",
     "output_type": "stream",
     "text": [
      "^C\n",
      "Looking in links: https://dl.fbaipublicfiles.com/detectron2/wheels/cu121/torch2.2.1/index.html\n",
      "Requirement already satisfied: detectron2 in d:\\yandexdisk\\study\\detectron2 (0.6)\n",
      "Requirement already satisfied: Pillow>=7.1 in c:\\users\\kgibo\\anaconda3\\lib\\site-packages (from detectron2) (10.2.0)\n",
      "Requirement already satisfied: matplotlib in c:\\users\\kgibo\\anaconda3\\lib\\site-packages (from detectron2) (3.8.0)\n",
      "Requirement already satisfied: pycocotools>=2.0.2 in c:\\users\\kgibo\\anaconda3\\lib\\site-packages (from detectron2) (2.0.6)\n",
      "Requirement already satisfied: termcolor>=1.1 in c:\\users\\kgibo\\anaconda3\\lib\\site-packages (from detectron2) (2.4.0)\n",
      "Requirement already satisfied: yacs>=0.1.8 in c:\\users\\kgibo\\anaconda3\\lib\\site-packages (from detectron2) (0.1.8)\n",
      "Requirement already satisfied: tabulate in c:\\users\\kgibo\\anaconda3\\lib\\site-packages (from detectron2) (0.9.0)\n",
      "Requirement already satisfied: cloudpickle in c:\\users\\kgibo\\anaconda3\\lib\\site-packages (from detectron2) (2.2.1)\n",
      "Requirement already satisfied: tqdm>4.29.0 in c:\\users\\kgibo\\anaconda3\\lib\\site-packages (from detectron2) (4.65.0)\n",
      "Requirement already satisfied: tensorboard in c:\\users\\kgibo\\anaconda3\\lib\\site-packages (from detectron2) (2.16.2)\n",
      "Requirement already satisfied: fvcore<0.1.6,>=0.1.5 in c:\\users\\kgibo\\anaconda3\\lib\\site-packages (from detectron2) (0.1.5.post20221221)\n",
      "Requirement already satisfied: iopath<0.1.10,>=0.1.7 in c:\\users\\kgibo\\anaconda3\\lib\\site-packages (from detectron2) (0.1.9)\n",
      "Requirement already satisfied: omegaconf<2.4,>=2.1 in c:\\users\\kgibo\\anaconda3\\lib\\site-packages (from detectron2) (2.3.0)\n",
      "Requirement already satisfied: hydra-core>=1.1 in c:\\users\\kgibo\\anaconda3\\lib\\site-packages (from detectron2) (1.3.2)\n",
      "Requirement already satisfied: black in c:\\users\\kgibo\\anaconda3\\lib\\site-packages (from detectron2) (23.11.0)\n",
      "Requirement already satisfied: packaging in c:\\users\\kgibo\\anaconda3\\lib\\site-packages (from detectron2) (23.1)\n",
      "Requirement already satisfied: numpy in c:\\users\\kgibo\\anaconda3\\lib\\site-packages (from fvcore<0.1.6,>=0.1.5->detectron2) (1.26.4)\n",
      "Requirement already satisfied: pyyaml>=5.1 in c:\\users\\kgibo\\anaconda3\\lib\\site-packages (from fvcore<0.1.6,>=0.1.5->detectron2) (6.0.1)\n",
      "Requirement already satisfied: antlr4-python3-runtime==4.9.* in c:\\users\\kgibo\\anaconda3\\lib\\site-packages (from hydra-core>=1.1->detectron2) (4.9.3)\n",
      "Requirement already satisfied: portalocker in c:\\users\\kgibo\\anaconda3\\lib\\site-packages (from iopath<0.1.10,>=0.1.7->detectron2) (2.8.2)\n",
      "Requirement already satisfied: contourpy>=1.0.1 in c:\\users\\kgibo\\anaconda3\\lib\\site-packages (from matplotlib->detectron2) (1.2.0)\n",
      "Requirement already satisfied: cycler>=0.10 in c:\\users\\kgibo\\anaconda3\\lib\\site-packages (from matplotlib->detectron2) (0.11.0)\n",
      "Requirement already satisfied: fonttools>=4.22.0 in c:\\users\\kgibo\\anaconda3\\lib\\site-packages (from matplotlib->detectron2) (4.25.0)\n",
      "Requirement already satisfied: kiwisolver>=1.0.1 in c:\\users\\kgibo\\anaconda3\\lib\\site-packages (from matplotlib->detectron2) (1.4.4)\n",
      "Requirement already satisfied: pyparsing>=2.3.1 in c:\\users\\kgibo\\anaconda3\\lib\\site-packages (from matplotlib->detectron2) (3.0.9)\n",
      "Requirement already satisfied: python-dateutil>=2.7 in c:\\users\\kgibo\\anaconda3\\lib\\site-packages (from matplotlib->detectron2) (2.8.2)\n",
      "Requirement already satisfied: colorama in c:\\users\\kgibo\\anaconda3\\lib\\site-packages (from tqdm>4.29.0->detectron2) (0.4.6)\n",
      "Requirement already satisfied: click>=8.0.0 in c:\\users\\kgibo\\anaconda3\\lib\\site-packages (from black->detectron2) (8.1.7)\n",
      "Requirement already satisfied: mypy-extensions>=0.4.3 in c:\\users\\kgibo\\anaconda3\\lib\\site-packages (from black->detectron2) (1.0.0)\n",
      "Requirement already satisfied: pathspec>=0.9.0 in c:\\users\\kgibo\\anaconda3\\lib\\site-packages (from black->detectron2) (0.10.3)\n",
      "Requirement already satisfied: platformdirs>=2 in c:\\users\\kgibo\\anaconda3\\lib\\site-packages (from black->detectron2) (3.10.0)\n",
      "Requirement already satisfied: absl-py>=0.4 in c:\\users\\kgibo\\anaconda3\\lib\\site-packages (from tensorboard->detectron2) (2.1.0)\n",
      "Requirement already satisfied: grpcio>=1.48.2 in c:\\users\\kgibo\\anaconda3\\lib\\site-packages (from tensorboard->detectron2) (1.62.1)\n",
      "Requirement already satisfied: markdown>=2.6.8 in c:\\users\\kgibo\\anaconda3\\lib\\site-packages (from tensorboard->detectron2) (3.4.1)\n",
      "Requirement already satisfied: protobuf!=4.24.0,>=3.19.6 in c:\\users\\kgibo\\anaconda3\\lib\\site-packages (from tensorboard->detectron2) (3.20.3)\n",
      "Requirement already satisfied: setuptools>=41.0.0 in c:\\users\\kgibo\\anaconda3\\lib\\site-packages (from tensorboard->detectron2) (68.2.2)\n",
      "Requirement already satisfied: six>1.9 in c:\\users\\kgibo\\anaconda3\\lib\\site-packages (from tensorboard->detectron2) (1.16.0)\n",
      "Requirement already satisfied: tensorboard-data-server<0.8.0,>=0.7.0 in c:\\users\\kgibo\\anaconda3\\lib\\site-packages (from tensorboard->detectron2) (0.7.2)\n",
      "Requirement already satisfied: werkzeug>=1.0.1 in c:\\users\\kgibo\\anaconda3\\lib\\site-packages (from tensorboard->detectron2) (2.2.3)\n",
      "Requirement already satisfied: MarkupSafe>=2.1.1 in c:\\users\\kgibo\\anaconda3\\lib\\site-packages (from werkzeug>=1.0.1->tensorboard->detectron2) (2.1.3)\n",
      "Requirement already satisfied: pywin32>=226 in c:\\users\\kgibo\\anaconda3\\lib\\site-packages (from portalocker->iopath<0.1.10,>=0.1.7->detectron2) (305.1)\n"
     ]
    }
   ],
   "source": [
    "!python -m pip install pyyaml==6.0.1\n",
    "# Detectron2 has not released pre-built binaries for the latest pytorch (https://github.com/facebookresearch/detectron2/issues/4053)\n",
    "# so we install from source instead. This takes a few minutes.\n",
    "!python -m pip install 'git+https://github.com/facebookresearch/detectron2.git'\n",
    "\n",
    "# Install pre-built detectron2 that matches pytorch version, if released:\n",
    "# See https://detectron2.readthedocs.io/tutorials/install.html for instructions\n",
    "#!pip install detectron2 -f https://dl.fbaipublicfiles.com/detectron2/wheels/{CUDA_VERSION}/{TORCH_VERSION}/index.html\n",
    "\n",
    "if SystemExit != 0:\n",
    "  !pip install pycocotools>=2.0.7\n",
    "  !pip install torch==2.2.1+cu121 torchvision==0.17.1+cu121 -f https://download.pytorch.org/whl/torch_stable.html\n",
    "  import torch\n",
    "  assert torch.__version__.startswith(\"2.2.1\")\n",
    "  !pip install detectron2 -f https://dl.fbaipublicfiles.com/detectron2/wheels/cu121/torch2.2.1/index.html\n",
    "exit(0)  # After installation, you may need to \"restart runtime\" in Colab. This line can also restart runtime"
   ]
  },
  {
   "cell_type": "code",
   "execution_count": 1,
   "metadata": {
    "colab": {
     "base_uri": "https://localhost:8080/",
     "height": 383
    },
    "executionInfo": {
     "elapsed": 5313,
     "status": "error",
     "timestamp": 1711185875187,
     "user": {
      "displayName": "Igor",
      "userId": "08334344368707436366"
     },
     "user_tz": -180
    },
    "id": "NvVl8X-sclMP",
    "outputId": "4a1f7943-af8b-4b03-8037-cefb41098811",
    "ExecuteTime": {
     "end_time": "2024-03-23T11:19:32.523621Z",
     "start_time": "2024-03-23T11:19:29.235042Z"
    }
   },
   "outputs": [
    {
     "name": "stdout",
     "output_type": "stream",
     "text": [
      "torch:  2.2 ; cuda:  cpu\n",
      "detectron2: 0.6\n"
     ]
    },
    {
     "name": "stderr",
     "output_type": "stream",
     "text": [
      "\"nvcc\" ­Ґ пў«пҐвбп ў­гваҐ­­Ґ© Ё«Ё ў­Ґи­Ґ©\n",
      "Є®¬ ­¤®©, ЁбЇ®«­пҐ¬®© Їа®Ја ¬¬®© Ё«Ё Ї ЄҐв­л¬ д ©«®¬.\n"
     ]
    }
   ],
   "source": [
    "import torch, detectron2\n",
    "!nvcc --version\n",
    "TORCH_VERSION = \".\".join(torch.__version__.split(\".\")[:2])\n",
    "CUDA_VERSION = torch.__version__.split(\"+\")[-1]\n",
    "print(\"torch: \", TORCH_VERSION, \"; cuda: \", CUDA_VERSION)\n",
    "print(\"detectron2:\", detectron2.__version__)"
   ]
  },
  {
   "cell_type": "code",
   "execution_count": 2,
   "metadata": {
    "id": "C3a1KdvbijJp",
    "ExecuteTime": {
     "end_time": "2024-03-23T11:19:35.691513Z",
     "start_time": "2024-03-23T11:19:35.683580Z"
    }
   },
   "outputs": [],
   "source": [
    "# Is running in colab or in jupyter-notebook\n",
    "try:\n",
    "  import google.colab\n",
    "  IN_COLAB = True\n",
    "except:\n",
    "  IN_COLAB = False"
   ]
  },
  {
   "cell_type": "code",
   "execution_count": 3,
   "metadata": {
    "id": "ZyAvNCJMmvFF",
    "ExecuteTime": {
     "end_time": "2024-03-23T11:19:40.227140Z",
     "start_time": "2024-03-23T11:19:39.220942Z"
    }
   },
   "outputs": [],
   "source": [
    "# import some common libraries\n",
    "import json\n",
    "import os\n",
    "import cv2\n",
    "import random\n",
    "import glob\n",
    "import numpy as np\n",
    "if IN_COLAB:\n",
    "  from google.colab.patches import cv2_imshow\n",
    "import matplotlib.pyplot as plt\n",
    "%matplotlib inline"
   ]
  },
  {
   "cell_type": "code",
   "execution_count": 4,
   "metadata": {
    "id": "xed8MZ6gijJt",
    "ExecuteTime": {
     "end_time": "2024-03-23T11:19:47.604841Z",
     "start_time": "2024-03-23T11:19:45.217752Z"
    }
   },
   "outputs": [],
   "source": [
    "# Setup detectron2 logger\n",
    "import torch\n",
    "import torchvision\n",
    "import detectron2\n",
    "from detectron2.utils.logger import setup_logger\n",
    "setup_logger()\n",
    "\n",
    "# import some common detectron2 utilities\n",
    "from detectron2 import model_zoo\n",
    "from detectron2.engine import DefaultPredictor\n",
    "from detectron2.config import get_cfg\n",
    "from detectron2.utils.visualizer import Visualizer\n",
    "from detectron2.data import MetadataCatalog, DatasetCatalog\n"
   ]
  },
  {
   "cell_type": "code",
   "execution_count": 6,
   "metadata": {
    "colab": {
     "base_uri": "https://localhost:8080/"
    },
    "executionInfo": {
     "elapsed": 317,
     "status": "ok",
     "timestamp": 1711143713685,
     "user": {
      "displayName": "Igor",
      "userId": "08334344368707436366"
     },
     "user_tz": -180
    },
    "id": "Nc-NcMJ-ijJv",
    "outputId": "d273b375-93e1-4aaf-8539-8a6c11575623",
    "ExecuteTime": {
     "end_time": "2024-03-23T11:20:03.411670Z",
     "start_time": "2024-03-23T11:20:03.406458Z"
    }
   },
   "outputs": [
    {
     "name": "stdout",
     "output_type": "stream",
     "text": [
      "no gpu\n"
     ]
    }
   ],
   "source": [
    "# is there a gpu\n",
    "if torch.cuda.is_available():\n",
    "    GPU = True\n",
    "    print('gpu available')\n",
    "else:\n",
    "    GPU = False\n",
    "    print('no gpu')"
   ]
  },
  {
   "cell_type": "markdown",
   "metadata": {
    "id": "9GXik0-s9zda"
   },
   "source": [
    "## Upload a labeled dataset.\n",
    "The following code is expecting the dataset in the COCO format to be in a ***.zip*** file. For example: ```sample_dataset.zip``` \\\n",
    "Note: please make sure there is no white space in your file path if you encounter file not found issues."
   ]
  },
  {
   "cell_type": "code",
   "execution_count": 8,
   "metadata": {
    "id": "JcWvszD899W4",
    "ExecuteTime": {
     "end_time": "2024-03-23T11:20:45.184717Z",
     "start_time": "2024-03-23T11:20:44.898424Z"
    }
   },
   "outputs": [
    {
     "name": "stderr",
     "output_type": "stream",
     "text": [
      "usage: jupyter [-h] [--version] [--config-dir] [--data-dir] [--runtime-dir]\n",
      "               [--paths] [--json] [--debug]\n",
      "               [subcommand]\n",
      "\n",
      "Jupyter: Interactive Computing\n",
      "\n",
      "positional arguments:\n",
      "  subcommand     the subcommand to launch\n",
      "\n",
      "options:\n",
      "  -h, --help     show this help message and exit\n",
      "  --version      show the versions of core jupyter packages and exit\n",
      "  --config-dir   show Jupyter config dir\n",
      "  --data-dir     show Jupyter data dir\n",
      "  --runtime-dir  show Jupyter runtime dir\n",
      "  --paths        show all Jupyter paths. Add --json for machine-readable\n",
      "                 format.\n",
      "  --json         output paths as machine-readable json\n",
      "  --debug        output debug information about paths\n",
      "\n",
      "Available subcommands: console dejavu events execute kernel kernelspec lab\n",
      "labextension labhub migrate nbconvert notebook qtconsole run script server\n",
      "troubleshoot trust\n",
      "\n",
      "Jupyter command `jupyter-nbextension` not found.\n"
     ]
    }
   ],
   "source": [
    "if IN_COLAB:\n",
    "    from google.colab import files\n",
    "else:\n",
    "    from ipywidgets import FileUpload\n",
    "    from IPython.display import display\n",
    "    !jupyter nbextension enable --py widgetsnbextension"
   ]
  },
  {
   "cell_type": "code",
   "execution_count": null,
   "metadata": {
    "colab": {
     "base_uri": "https://localhost:8080/",
     "height": 447
    },
    "executionInfo": {
     "elapsed": 75806,
     "status": "error",
     "timestamp": 1711145214903,
     "user": {
      "displayName": "Igor",
      "userId": "08334344368707436366"
     },
     "user_tz": -180
    },
    "id": "daXprDuZijJy",
    "outputId": "af43dea2-3fff-4ecb-aa43-cccbb3a6c5b4"
   },
   "outputs": [
    {
     "data": {
      "text/html": [
       "\n",
       "     <input type=\"file\" id=\"files-c6c4319e-2b80-4743-a3fc-7a0c4c3b7031\" name=\"files[]\" multiple disabled\n",
       "        style=\"border:none\" />\n",
       "     <output id=\"result-c6c4319e-2b80-4743-a3fc-7a0c4c3b7031\">\n",
       "      Upload widget is only available when the cell has been executed in the\n",
       "      current browser session. Please rerun this cell to enable.\n",
       "      </output>\n",
       "      <script>// Copyright 2017 Google LLC\n",
       "//\n",
       "// Licensed under the Apache License, Version 2.0 (the \"License\");\n",
       "// you may not use this file except in compliance with the License.\n",
       "// You may obtain a copy of the License at\n",
       "//\n",
       "//      http://www.apache.org/licenses/LICENSE-2.0\n",
       "//\n",
       "// Unless required by applicable law or agreed to in writing, software\n",
       "// distributed under the License is distributed on an \"AS IS\" BASIS,\n",
       "// WITHOUT WARRANTIES OR CONDITIONS OF ANY KIND, either express or implied.\n",
       "// See the License for the specific language governing permissions and\n",
       "// limitations under the License.\n",
       "\n",
       "/**\n",
       " * @fileoverview Helpers for google.colab Python module.\n",
       " */\n",
       "(function(scope) {\n",
       "function span(text, styleAttributes = {}) {\n",
       "  const element = document.createElement('span');\n",
       "  element.textContent = text;\n",
       "  for (const key of Object.keys(styleAttributes)) {\n",
       "    element.style[key] = styleAttributes[key];\n",
       "  }\n",
       "  return element;\n",
       "}\n",
       "\n",
       "// Max number of bytes which will be uploaded at a time.\n",
       "const MAX_PAYLOAD_SIZE = 100 * 1024;\n",
       "\n",
       "function _uploadFiles(inputId, outputId) {\n",
       "  const steps = uploadFilesStep(inputId, outputId);\n",
       "  const outputElement = document.getElementById(outputId);\n",
       "  // Cache steps on the outputElement to make it available for the next call\n",
       "  // to uploadFilesContinue from Python.\n",
       "  outputElement.steps = steps;\n",
       "\n",
       "  return _uploadFilesContinue(outputId);\n",
       "}\n",
       "\n",
       "// This is roughly an async generator (not supported in the browser yet),\n",
       "// where there are multiple asynchronous steps and the Python side is going\n",
       "// to poll for completion of each step.\n",
       "// This uses a Promise to block the python side on completion of each step,\n",
       "// then passes the result of the previous step as the input to the next step.\n",
       "function _uploadFilesContinue(outputId) {\n",
       "  const outputElement = document.getElementById(outputId);\n",
       "  const steps = outputElement.steps;\n",
       "\n",
       "  const next = steps.next(outputElement.lastPromiseValue);\n",
       "  return Promise.resolve(next.value.promise).then((value) => {\n",
       "    // Cache the last promise value to make it available to the next\n",
       "    // step of the generator.\n",
       "    outputElement.lastPromiseValue = value;\n",
       "    return next.value.response;\n",
       "  });\n",
       "}\n",
       "\n",
       "/**\n",
       " * Generator function which is called between each async step of the upload\n",
       " * process.\n",
       " * @param {string} inputId Element ID of the input file picker element.\n",
       " * @param {string} outputId Element ID of the output display.\n",
       " * @return {!Iterable<!Object>} Iterable of next steps.\n",
       " */\n",
       "function* uploadFilesStep(inputId, outputId) {\n",
       "  const inputElement = document.getElementById(inputId);\n",
       "  inputElement.disabled = false;\n",
       "\n",
       "  const outputElement = document.getElementById(outputId);\n",
       "  outputElement.innerHTML = '';\n",
       "\n",
       "  const pickedPromise = new Promise((resolve) => {\n",
       "    inputElement.addEventListener('change', (e) => {\n",
       "      resolve(e.target.files);\n",
       "    });\n",
       "  });\n",
       "\n",
       "  const cancel = document.createElement('button');\n",
       "  inputElement.parentElement.appendChild(cancel);\n",
       "  cancel.textContent = 'Cancel upload';\n",
       "  const cancelPromise = new Promise((resolve) => {\n",
       "    cancel.onclick = () => {\n",
       "      resolve(null);\n",
       "    };\n",
       "  });\n",
       "\n",
       "  // Wait for the user to pick the files.\n",
       "  const files = yield {\n",
       "    promise: Promise.race([pickedPromise, cancelPromise]),\n",
       "    response: {\n",
       "      action: 'starting',\n",
       "    }\n",
       "  };\n",
       "\n",
       "  cancel.remove();\n",
       "\n",
       "  // Disable the input element since further picks are not allowed.\n",
       "  inputElement.disabled = true;\n",
       "\n",
       "  if (!files) {\n",
       "    return {\n",
       "      response: {\n",
       "        action: 'complete',\n",
       "      }\n",
       "    };\n",
       "  }\n",
       "\n",
       "  for (const file of files) {\n",
       "    const li = document.createElement('li');\n",
       "    li.append(span(file.name, {fontWeight: 'bold'}));\n",
       "    li.append(span(\n",
       "        `(${file.type || 'n/a'}) - ${file.size} bytes, ` +\n",
       "        `last modified: ${\n",
       "            file.lastModifiedDate ? file.lastModifiedDate.toLocaleDateString() :\n",
       "                                    'n/a'} - `));\n",
       "    const percent = span('0% done');\n",
       "    li.appendChild(percent);\n",
       "\n",
       "    outputElement.appendChild(li);\n",
       "\n",
       "    const fileDataPromise = new Promise((resolve) => {\n",
       "      const reader = new FileReader();\n",
       "      reader.onload = (e) => {\n",
       "        resolve(e.target.result);\n",
       "      };\n",
       "      reader.readAsArrayBuffer(file);\n",
       "    });\n",
       "    // Wait for the data to be ready.\n",
       "    let fileData = yield {\n",
       "      promise: fileDataPromise,\n",
       "      response: {\n",
       "        action: 'continue',\n",
       "      }\n",
       "    };\n",
       "\n",
       "    // Use a chunked sending to avoid message size limits. See b/62115660.\n",
       "    let position = 0;\n",
       "    do {\n",
       "      const length = Math.min(fileData.byteLength - position, MAX_PAYLOAD_SIZE);\n",
       "      const chunk = new Uint8Array(fileData, position, length);\n",
       "      position += length;\n",
       "\n",
       "      const base64 = btoa(String.fromCharCode.apply(null, chunk));\n",
       "      yield {\n",
       "        response: {\n",
       "          action: 'append',\n",
       "          file: file.name,\n",
       "          data: base64,\n",
       "        },\n",
       "      };\n",
       "\n",
       "      let percentDone = fileData.byteLength === 0 ?\n",
       "          100 :\n",
       "          Math.round((position / fileData.byteLength) * 100);\n",
       "      percent.textContent = `${percentDone}% done`;\n",
       "\n",
       "    } while (position < fileData.byteLength);\n",
       "  }\n",
       "\n",
       "  // All done.\n",
       "  yield {\n",
       "    response: {\n",
       "      action: 'complete',\n",
       "    }\n",
       "  };\n",
       "}\n",
       "\n",
       "scope.google = scope.google || {};\n",
       "scope.google.colab = scope.google.colab || {};\n",
       "scope.google.colab._files = {\n",
       "  _uploadFiles,\n",
       "  _uploadFilesContinue,\n",
       "};\n",
       "})(self);\n",
       "</script> "
      ],
      "text/plain": [
       "<IPython.core.display.HTML object>"
      ]
     },
     "metadata": {},
     "output_type": "display_data"
    },
    {
     "ename": "KeyboardInterrupt",
     "evalue": "",
     "output_type": "error",
     "traceback": [
      "\u001B[0;31m---------------------------------------------------------------------------\u001B[0m",
      "\u001B[0;31mKeyboardInterrupt\u001B[0m                         Traceback (most recent call last)",
      "\u001B[0;32m<ipython-input-9-c814bcad62e1>\u001B[0m in \u001B[0;36m<cell line: 1>\u001B[0;34m()\u001B[0m\n\u001B[1;32m      1\u001B[0m \u001B[0;32mif\u001B[0m \u001B[0mIN_COLAB\u001B[0m\u001B[0;34m:\u001B[0m\u001B[0;34m\u001B[0m\u001B[0;34m\u001B[0m\u001B[0m\n\u001B[0;32m----> 2\u001B[0;31m     \u001B[0muploaded\u001B[0m \u001B[0;34m=\u001B[0m \u001B[0mfiles\u001B[0m\u001B[0;34m.\u001B[0m\u001B[0mupload\u001B[0m\u001B[0;34m(\u001B[0m\u001B[0;34m)\u001B[0m\u001B[0;34m\u001B[0m\u001B[0;34m\u001B[0m\u001B[0m\n\u001B[0m\u001B[1;32m      3\u001B[0m \u001B[0;32melse\u001B[0m\u001B[0;34m:\u001B[0m\u001B[0;34m\u001B[0m\u001B[0;34m\u001B[0m\u001B[0m\n\u001B[1;32m      4\u001B[0m     \u001B[0muploaded\u001B[0m \u001B[0;34m=\u001B[0m \u001B[0mFileUpload\u001B[0m\u001B[0;34m(\u001B[0m\u001B[0;34m)\u001B[0m\u001B[0;34m\u001B[0m\u001B[0;34m\u001B[0m\u001B[0m\n",
      "\u001B[0;32m/usr/local/lib/python3.10/dist-packages/google/colab/files.py\u001B[0m in \u001B[0;36mupload\u001B[0;34m()\u001B[0m\n\u001B[1;32m     67\u001B[0m   \"\"\"\n\u001B[1;32m     68\u001B[0m \u001B[0;34m\u001B[0m\u001B[0m\n\u001B[0;32m---> 69\u001B[0;31m   \u001B[0muploaded_files\u001B[0m \u001B[0;34m=\u001B[0m \u001B[0m_upload_files\u001B[0m\u001B[0;34m(\u001B[0m\u001B[0mmultiple\u001B[0m\u001B[0;34m=\u001B[0m\u001B[0;32mTrue\u001B[0m\u001B[0;34m)\u001B[0m\u001B[0;34m\u001B[0m\u001B[0;34m\u001B[0m\u001B[0m\n\u001B[0m\u001B[1;32m     70\u001B[0m   \u001B[0;31m# Mapping from original filename to filename as saved locally.\u001B[0m\u001B[0;34m\u001B[0m\u001B[0;34m\u001B[0m\u001B[0m\n\u001B[1;32m     71\u001B[0m   \u001B[0mlocal_filenames\u001B[0m \u001B[0;34m=\u001B[0m \u001B[0mdict\u001B[0m\u001B[0;34m(\u001B[0m\u001B[0;34m)\u001B[0m\u001B[0;34m\u001B[0m\u001B[0;34m\u001B[0m\u001B[0m\n",
      "\u001B[0;32m/usr/local/lib/python3.10/dist-packages/google/colab/files.py\u001B[0m in \u001B[0;36m_upload_files\u001B[0;34m(multiple)\u001B[0m\n\u001B[1;32m    162\u001B[0m \u001B[0;34m\u001B[0m\u001B[0m\n\u001B[1;32m    163\u001B[0m   \u001B[0;32mwhile\u001B[0m \u001B[0mresult\u001B[0m\u001B[0;34m[\u001B[0m\u001B[0;34m'action'\u001B[0m\u001B[0;34m]\u001B[0m \u001B[0;34m!=\u001B[0m \u001B[0;34m'complete'\u001B[0m\u001B[0;34m:\u001B[0m\u001B[0;34m\u001B[0m\u001B[0;34m\u001B[0m\u001B[0m\n\u001B[0;32m--> 164\u001B[0;31m     result = _output.eval_js(\n\u001B[0m\u001B[1;32m    165\u001B[0m         'google.colab._files._uploadFilesContinue(\"{output_id}\")'.format(\n\u001B[1;32m    166\u001B[0m             \u001B[0moutput_id\u001B[0m\u001B[0;34m=\u001B[0m\u001B[0moutput_id\u001B[0m\u001B[0;34m\u001B[0m\u001B[0;34m\u001B[0m\u001B[0m\n",
      "\u001B[0;32m/usr/local/lib/python3.10/dist-packages/google/colab/output/_js.py\u001B[0m in \u001B[0;36meval_js\u001B[0;34m(script, ignore_result, timeout_sec)\u001B[0m\n\u001B[1;32m     38\u001B[0m   \u001B[0;32mif\u001B[0m \u001B[0mignore_result\u001B[0m\u001B[0;34m:\u001B[0m\u001B[0;34m\u001B[0m\u001B[0;34m\u001B[0m\u001B[0m\n\u001B[1;32m     39\u001B[0m     \u001B[0;32mreturn\u001B[0m\u001B[0;34m\u001B[0m\u001B[0;34m\u001B[0m\u001B[0m\n\u001B[0;32m---> 40\u001B[0;31m   \u001B[0;32mreturn\u001B[0m \u001B[0m_message\u001B[0m\u001B[0;34m.\u001B[0m\u001B[0mread_reply_from_input\u001B[0m\u001B[0;34m(\u001B[0m\u001B[0mrequest_id\u001B[0m\u001B[0;34m,\u001B[0m \u001B[0mtimeout_sec\u001B[0m\u001B[0;34m)\u001B[0m\u001B[0;34m\u001B[0m\u001B[0;34m\u001B[0m\u001B[0m\n\u001B[0m\u001B[1;32m     41\u001B[0m \u001B[0;34m\u001B[0m\u001B[0m\n\u001B[1;32m     42\u001B[0m \u001B[0;34m\u001B[0m\u001B[0m\n",
      "\u001B[0;32m/usr/local/lib/python3.10/dist-packages/google/colab/_message.py\u001B[0m in \u001B[0;36mread_reply_from_input\u001B[0;34m(message_id, timeout_sec)\u001B[0m\n\u001B[1;32m     94\u001B[0m     \u001B[0mreply\u001B[0m \u001B[0;34m=\u001B[0m \u001B[0m_read_next_input_message\u001B[0m\u001B[0;34m(\u001B[0m\u001B[0;34m)\u001B[0m\u001B[0;34m\u001B[0m\u001B[0;34m\u001B[0m\u001B[0m\n\u001B[1;32m     95\u001B[0m     \u001B[0;32mif\u001B[0m \u001B[0mreply\u001B[0m \u001B[0;34m==\u001B[0m \u001B[0m_NOT_READY\u001B[0m \u001B[0;32mor\u001B[0m \u001B[0;32mnot\u001B[0m \u001B[0misinstance\u001B[0m\u001B[0;34m(\u001B[0m\u001B[0mreply\u001B[0m\u001B[0;34m,\u001B[0m \u001B[0mdict\u001B[0m\u001B[0;34m)\u001B[0m\u001B[0;34m:\u001B[0m\u001B[0;34m\u001B[0m\u001B[0;34m\u001B[0m\u001B[0m\n\u001B[0;32m---> 96\u001B[0;31m       \u001B[0mtime\u001B[0m\u001B[0;34m.\u001B[0m\u001B[0msleep\u001B[0m\u001B[0;34m(\u001B[0m\u001B[0;36m0.025\u001B[0m\u001B[0;34m)\u001B[0m\u001B[0;34m\u001B[0m\u001B[0;34m\u001B[0m\u001B[0m\n\u001B[0m\u001B[1;32m     97\u001B[0m       \u001B[0;32mcontinue\u001B[0m\u001B[0;34m\u001B[0m\u001B[0;34m\u001B[0m\u001B[0m\n\u001B[1;32m     98\u001B[0m     if (\n",
      "\u001B[0;31mKeyboardInterrupt\u001B[0m: "
     ]
    }
   ],
   "source": [
    "if IN_COLAB:\n",
    "    uploaded = files.upload()\n",
    "else:\n",
    "    uploaded = FileUpload()"
   ]
  },
  {
   "cell_type": "markdown",
   "metadata": {
    "id": "8zBV7ib8ijJz"
   },
   "source": [
    "Running the following cell should enable a clickable button to upload the .zip file. If no button appears, you might need to update / install nodeJS."
   ]
  },
  {
   "cell_type": "code",
   "execution_count": null,
   "metadata": {
    "id": "ufTsA1cPijJz"
   },
   "outputs": [],
   "source": [
    "#display(uploaded)"
   ]
  },
  {
   "cell_type": "code",
   "execution_count": 9,
   "metadata": {
    "id": "RJDnzMb9ijJ0",
    "ExecuteTime": {
     "end_time": "2024-03-23T11:21:04.895244Z",
     "start_time": "2024-03-23T11:21:03.916299Z"
    }
   },
   "outputs": [
    {
     "ename": "NameError",
     "evalue": "name 'uploaded' is not defined",
     "output_type": "error",
     "traceback": [
      "\u001B[1;31m---------------------------------------------------------------------------\u001B[0m",
      "\u001B[1;31mNameError\u001B[0m                                 Traceback (most recent call last)",
      "Cell \u001B[1;32mIn[9], line 4\u001B[0m\n\u001B[0;32m      2\u001B[0m     dataset \u001B[38;5;241m=\u001B[39m  \u001B[38;5;28mlist\u001B[39m(uploaded\u001B[38;5;241m.\u001B[39mkeys())[\u001B[38;5;241m0\u001B[39m]\n\u001B[0;32m      3\u001B[0m \u001B[38;5;28;01melse\u001B[39;00m:\n\u001B[1;32m----> 4\u001B[0m     dataset \u001B[38;5;241m=\u001B[39m \u001B[38;5;28mlist\u001B[39m(uploaded\u001B[38;5;241m.\u001B[39mvalue\u001B[38;5;241m.\u001B[39mkeys())[\u001B[38;5;241m0\u001B[39m]\n",
      "\u001B[1;31mNameError\u001B[0m: name 'uploaded' is not defined"
     ]
    }
   ],
   "source": [
    "if IN_COLAB:\n",
    "    dataset =  list(uploaded.keys())[0]\n",
    "else:\n",
    "    dataset = list(uploaded.value.keys())[0]"
   ]
  },
  {
   "cell_type": "markdown",
   "metadata": {
    "id": "_EoPz9B_2kXM"
   },
   "source": [
    "## Unzip the the uploaded COCO dataset\n",
    "The default folder structures are as follows.\n",
    "* /content\n",
    "  * coco_dataset_name\n",
    "     * train\n",
    "        * JPEGImages\n",
    "        * annotations.json\n",
    "     * val\n",
    "        * JPEGImages\n",
    "        * annotations.json\n",
    "     * data.yaml\n",
    "\n"
   ]
  },
  {
   "cell_type": "code",
   "execution_count": null,
   "metadata": {
    "id": "7gD2vEWtmZQ8"
   },
   "outputs": [],
   "source": [
    "if IN_COLAB:\n",
    "    !unzip $dataset -d /content\n",
    "else:\n",
    "    #TODO generalize this\n",
    "    !unzip -o ../../sample_dataset/$dataset -d ."
   ]
  },
  {
   "cell_type": "markdown",
   "metadata": {
    "id": "pWfb29Cy9EdH"
   },
   "source": [
    "If your dataset has the same name as the file you uploaded, you do not need to manually input the name (just run the next cells). **Otherwise, you need to replace DATASET_NAME and DATASET_DIR with your own strings like `DATASET_NAME = \"NameOfMyDataset\"` and `DATASETDIR=\"NameOfMyDatasetDirectory\"`**. To do that, uncomment the commented out cell below and replace the strings with the appropriate names"
   ]
  },
  {
   "cell_type": "code",
   "execution_count": null,
   "metadata": {
    "id": "21PxYqli7Y67"
   },
   "outputs": [],
   "source": [
    "DATASET_NAME = DATASET_DIR = f\"{dataset.replace('.zip','')}\""
   ]
  },
  {
   "cell_type": "code",
   "execution_count": null,
   "metadata": {
    "id": "NHBg6H8cijJ2"
   },
   "outputs": [],
   "source": [
    "DATASET_NAME = 'NameOfMyDataset'\n",
    "DATASET_DIR = 'NameOfMyDatasetDirectory'"
   ]
  },
  {
   "cell_type": "code",
   "execution_count": null,
   "metadata": {
    "id": "KzRZngMi_ujx",
    "scrolled": true
   },
   "outputs": [],
   "source": [
    "DATASET_NAME"
   ]
  },
  {
   "cell_type": "code",
   "execution_count": null,
   "metadata": {
    "id": "Gak3KwomHghD"
   },
   "outputs": [],
   "source": [
    "DATASET_DIR"
   ]
  },
  {
   "cell_type": "markdown",
   "metadata": {
    "id": "Vk4gID50K03a"
   },
   "source": [
    "# Run a pre-trained detectron2 model"
   ]
  },
  {
   "cell_type": "markdown",
   "metadata": {
    "id": "JgKyUL4pngvE"
   },
   "source": [
    "First, we check a random selected image from our training dataset:"
   ]
  },
  {
   "cell_type": "code",
   "execution_count": null,
   "metadata": {
    "id": "dq9GY37ml1kr"
   },
   "outputs": [],
   "source": [
    "# select and display one random image from the training set\n",
    "img_file = random.choice(glob.glob(f\"{DATASET_DIR}/train/JPEGImages/*.jpg\"))\n",
    "im = cv2.imread(img_file)\n",
    "if IN_COLAB:\n",
    "    cv2_imshow(im)\n",
    "else:\n",
    "    plt.imshow(im)"
   ]
  },
  {
   "cell_type": "markdown",
   "metadata": {
    "id": "uM1thbN-ntjI"
   },
   "source": [
    "Then, we create a Detectron2 config and a detectron2 `DefaultPredictor` to run inference on this image."
   ]
  },
  {
   "cell_type": "code",
   "execution_count": null,
   "metadata": {
    "id": "vaihLCGHijJ4"
   },
   "outputs": [],
   "source": [
    "cfg = get_cfg()"
   ]
  },
  {
   "cell_type": "code",
   "execution_count": null,
   "metadata": {
    "id": "oYAFJwQjijJ5"
   },
   "outputs": [],
   "source": [
    "if GPU:\n",
    "    pass\n",
    "else:\n",
    "    cfg.MODEL.DEVICE='cpu'"
   ]
  },
  {
   "cell_type": "code",
   "execution_count": null,
   "metadata": {
    "id": "HUjkwRsOn1O0"
   },
   "outputs": [],
   "source": [
    "# add project-specific config (e.g., TensorMask) here if you're not running a model in detectron2's core library\n",
    "cfg.merge_from_file(model_zoo.get_config_file(\"COCO-InstanceSegmentation/mask_rcnn_R_50_FPN_3x.yaml\"))\n",
    "cfg.MODEL.ROI_HEADS.SCORE_THRESH_TEST = 0.1  # set threshold for this model\n",
    "# Find a model from Detectron2's model zoo. You can use the https://dl.fbaipublicfiles... url as well\n",
    "cfg.MODEL.WEIGHTS = model_zoo.get_checkpoint_url(\"COCO-InstanceSegmentation/mask_rcnn_R_50_FPN_3x.yaml\")\n",
    "predictor = DefaultPredictor(cfg)\n",
    "outputs = predictor(im)"
   ]
  },
  {
   "cell_type": "code",
   "execution_count": null,
   "metadata": {
    "id": "7d3KxiHO_0gb"
   },
   "outputs": [],
   "source": [
    "# look at the outputs. See https://detectron2.readthedocs.io/tutorials/models.html#model-output-format for specification\n",
    "print(outputs[\"instances\"].pred_classes)\n",
    "print(outputs[\"instances\"].pred_boxes)"
   ]
  },
  {
   "cell_type": "code",
   "execution_count": null,
   "metadata": {
    "id": "eM728kMR0ACL"
   },
   "outputs": [],
   "source": [
    "outputs['instances'].pred_masks"
   ]
  },
  {
   "cell_type": "code",
   "execution_count": null,
   "metadata": {
    "id": "NWnR6KMx2KK7"
   },
   "outputs": [],
   "source": [
    "MetadataCatalog.get(cfg.DATASETS.TRAIN[0])"
   ]
  },
  {
   "cell_type": "code",
   "execution_count": null,
   "metadata": {
    "id": "8IRGo8d0qkgR"
   },
   "outputs": [],
   "source": [
    "# We can use `Visualizer` to draw the predictions on the image.\n",
    "v = Visualizer(im[:, :, ::-1], MetadataCatalog.get(cfg.DATASETS.TRAIN[0]), scale=1.2)\n",
    "out = v.draw_instance_predictions(outputs[\"instances\"].to(\"cpu\"))\n",
    "if IN_COLAB:\n",
    "    cv2_imshow(out.get_image()[:, :, ::-1])\n",
    "else:\n",
    "    plt.imshow(out.get_image()[:, :, ::-1])"
   ]
  },
  {
   "cell_type": "markdown",
   "metadata": {
    "id": "46VbBbUYijJ7"
   },
   "source": [
    "As we can see, the network doesn't detect what we want. That is expected as we have not fine-tuned the network with our custom dataset. We are going to do that in the next steps."
   ]
  },
  {
   "cell_type": "markdown",
   "metadata": {
    "id": "b2bjrfb2LDeo"
   },
   "source": [
    "# Train on a custom dataset"
   ]
  },
  {
   "cell_type": "markdown",
   "metadata": {
    "id": "tjbUIhSxUdm_"
   },
   "source": [
    "In this section, we show how to train an existing detectron2 model on a custom dataset in COCO format.\n",
    "\n",
    "## Prepare the dataset"
   ]
  },
  {
   "cell_type": "markdown",
   "metadata": {
    "id": "tVJoOm6LVJwW"
   },
   "source": [
    "Register the custom dataset to Detectron2, following the [detectron2 custom dataset tutorial](https://detectron2.readthedocs.io/tutorials/datasets.html).\n",
    "Here, the dataset is in COCO format, therefore we register  into Detectron2's standard format. User should write such a function when using a dataset in custom format. See the tutorial for more details.\n"
   ]
  },
  {
   "cell_type": "code",
   "execution_count": null,
   "metadata": {
    "id": "PIbAM2pv-urF"
   },
   "outputs": [],
   "source": [
    "from detectron2.data.datasets import register_coco_instances\n",
    "from detectron2.data import get_detection_dataset_dicts\n",
    "from detectron2.data.datasets import  builtin_meta"
   ]
  },
  {
   "cell_type": "code",
   "execution_count": null,
   "metadata": {
    "id": "kb0Pr0C_ijJ8"
   },
   "outputs": [],
   "source": [
    "register_coco_instances(f\"{DATASET_NAME}_train\", {}, f\"{DATASET_DIR}/train/annotations.json\", f\"{DATASET_DIR}/train/\")\n",
    "register_coco_instances(f\"{DATASET_NAME}_valid\", {}, f\"{DATASET_DIR}/valid/annotations.json\", f\"{DATASET_DIR}/valid/\")"
   ]
  },
  {
   "cell_type": "code",
   "execution_count": null,
   "metadata": {
    "id": "GzKzTlwU_iHh"
   },
   "outputs": [],
   "source": [
    "dataset_dicts = get_detection_dataset_dicts([f\"{DATASET_NAME}_train\"])"
   ]
  },
  {
   "cell_type": "code",
   "execution_count": null,
   "metadata": {
    "id": "FVJnolv9__eE"
   },
   "outputs": [],
   "source": [
    "_dataset_metadata = MetadataCatalog.get(f\"{DATASET_NAME}_train\")\n",
    "_dataset_metadata.thing_colors = [cc['color'] for cc in builtin_meta.COCO_CATEGORIES]"
   ]
  },
  {
   "cell_type": "code",
   "execution_count": null,
   "metadata": {
    "id": "h-dEBJmW447_"
   },
   "outputs": [],
   "source": [
    "_dataset_metadata"
   ]
  },
  {
   "cell_type": "code",
   "execution_count": null,
   "metadata": {
    "id": "llntrPobA2CM"
   },
   "outputs": [],
   "source": [
    "NUM_CLASSES = len(_dataset_metadata.thing_classes)\n",
    "print(f\"{NUM_CLASSES} Number of classes in the dataset\")"
   ]
  },
  {
   "cell_type": "markdown",
   "metadata": {
    "id": "6ljbWTX0Wi8E"
   },
   "source": [
    "To verify the data loading is correct, let's visualize the annotations of a randomly selected sample in the training set:\n",
    "\n"
   ]
  },
  {
   "cell_type": "code",
   "execution_count": null,
   "metadata": {
    "id": "UkNbUzUOLYf0"
   },
   "outputs": [],
   "source": [
    "for d in random.sample(dataset_dicts, 2):\n",
    "    if '\\\\' in d['file_name']:\n",
    "        d['file_name'] = d['file_name'].replace('\\\\','/')\n",
    "    img = cv2.imread(d[\"file_name\"])\n",
    "    visualizer = Visualizer(img[:, :, ::-1], metadata=_dataset_metadata, scale=0.5)\n",
    "    out = visualizer.draw_dataset_dict(d)\n",
    "    if IN_COLAB:\n",
    "        cv2_imshow(out.get_image()[:, :, ::-1])\n",
    "    else:\n",
    "        plt.imshow(out.get_image()[:, :, ::-1])\n"
   ]
  },
  {
   "cell_type": "markdown",
   "metadata": {
    "id": "wlqXIXXhW8dA"
   },
   "source": [
    "## Train!\n",
    "\n",
    "Now, let's fine-tune the COCO-pretrained R50-FPN Mask R-CNN model with our custom dataset. It takes ~2 hours to train 3000 iterations on Colab's K80 GPU, or ~1.5 hours on a P100 GPU.\n"
   ]
  },
  {
   "cell_type": "code",
   "execution_count": null,
   "metadata": {
    "id": "w9vyoXX0xZcM",
    "scrolled": false
   },
   "outputs": [],
   "source": [
    "if GPU:\n",
    "    !nvidia-smi"
   ]
  },
  {
   "cell_type": "code",
   "execution_count": null,
   "metadata": {
    "id": "KDrggVt7ijJ-"
   },
   "outputs": [],
   "source": [
    "from detectron2.engine import DefaultTrainer"
   ]
  },
  {
   "cell_type": "code",
   "execution_count": null,
   "metadata": {
    "id": "eYATMC8RijJ-"
   },
   "outputs": [],
   "source": [
    "cfg = get_cfg()"
   ]
  },
  {
   "cell_type": "code",
   "execution_count": null,
   "metadata": {
    "id": "k-HlCD3eijJ_"
   },
   "outputs": [],
   "source": [
    "if GPU:\n",
    "    pass\n",
    "else:\n",
    "    cfg.MODEL.DEVICE='cpu'"
   ]
  },
  {
   "cell_type": "code",
   "execution_count": null,
   "metadata": {
    "id": "7unkuuiqLdqd"
   },
   "outputs": [],
   "source": [
    "cfg.merge_from_file(model_zoo.get_config_file(\"COCO-InstanceSegmentation/mask_rcnn_R_50_FPN_3x.yaml\"))\n",
    "cfg.DATASETS.TRAIN = (f\"{DATASET_NAME}_train\",)\n",
    "cfg.DATASETS.TEST = ()\n",
    "cfg.DATALOADER.NUM_WORKERS = 2 #@param\n",
    "cfg.DATALOADER.SAMPLER_TRAIN = \"RepeatFactorTrainingSampler\"\n",
    "cfg.DATALOADER.REPEAT_THRESHOLD = 0.3\n",
    "cfg.MODEL.WEIGHTS = model_zoo.get_checkpoint_url(\"COCO-InstanceSegmentation/mask_rcnn_R_50_FPN_3x.yaml\")  # Let training initialize from model zoo\n",
    "cfg.SOLVER.IMS_PER_BATCH =  8 #@param\n",
    "cfg.SOLVER.BASE_LR = 0.0025 #@param # pick a good LR\n",
    "cfg.SOLVER.MAX_ITER = 300 #@param    # 300 iterations seems good enough for 100 frames dataset; you will need to train longer for a practical dataset\n",
    "cfg.SOLVER.CHECKPOINT_PERIOD = 1000 #@param\n",
    "cfg.MODEL.ROI_HEADS.BATCH_SIZE_PER_IMAGE = 128 #@param   # faster, and good enough for this toy dataset (default: 512)\n",
    "cfg.MODEL.ROI_HEADS.NUM_CLASSES = NUM_CLASSES  #  (see https://detectron2.readthedocs.io/tutorials/datasets.html#update-the-config-for-new-datasets)\n",
    "os.makedirs(cfg.OUTPUT_DIR, exist_ok=True)\n",
    "trainer = DefaultTrainer(cfg)\n",
    "trainer.resume_or_load(resume=False)\n"
   ]
  },
  {
   "cell_type": "code",
   "execution_count": null,
   "metadata": {
    "id": "hBXeH8UXFcqU",
    "scrolled": true
   },
   "outputs": [],
   "source": [
    "# Look at training curves in tensorboard:\n",
    "%load_ext tensorboard\n",
    "%tensorboard --logdir output"
   ]
  },
  {
   "cell_type": "code",
   "execution_count": null,
   "metadata": {
    "id": "aKs8eu8u8_mr",
    "scrolled": true
   },
   "outputs": [],
   "source": [
    "trainer.train()"
   ]
  },
  {
   "cell_type": "markdown",
   "metadata": {
    "id": "0e4vdDIOXyxF"
   },
   "source": [
    "## Inference & evaluation using the trained model\n",
    "Now, let's run inference with the trained model on the validation dataset. First, let's create a predictor using the model we just trained:\n",
    "\n"
   ]
  },
  {
   "cell_type": "code",
   "execution_count": null,
   "metadata": {
    "id": "Ya5nEuMELeq8"
   },
   "outputs": [],
   "source": [
    "# Inference should use the config with parameters that are used in training\n",
    "# cfg now already contains everything we've set previously.\n",
    "# We simply update the weights with the newly trained ones to perform inference:\n",
    "cfg.MODEL.WEIGHTS = os.path.join(cfg.OUTPUT_DIR, \"model_final.pth\")  # path to the model we just trained\n",
    "# set a custom testing threshold\n",
    "cfg.MODEL.ROI_HEADS.SCORE_THRESH_TEST = 0.15   #@param {type: \"slider\", min:0.0, max:1.0, step: 0.01}\n",
    "predictor = DefaultPredictor(cfg)"
   ]
  },
  {
   "cell_type": "markdown",
   "metadata": {
    "id": "qWq1XHfDWiXO"
   },
   "source": [
    "Then, we randomly select several samples to visualize the prediction results."
   ]
  },
  {
   "cell_type": "code",
   "execution_count": null,
   "metadata": {
    "id": "ao8JdwZiijKA"
   },
   "outputs": [],
   "source": [
    "from detectron2.utils.visualizer import ColorMode"
   ]
  },
  {
   "cell_type": "code",
   "execution_count": null,
   "metadata": {
    "id": "U5LhISJqWXgM"
   },
   "outputs": [],
   "source": [
    "dataset_dicts = get_detection_dataset_dicts([f\"{DATASET_NAME}_valid\"])\n",
    "for d in random.sample(dataset_dicts, 2):\n",
    "    im = cv2.imread(d[\"file_name\"])\n",
    "    outputs = predictor(im)  # format is documented at https://detectron2.readthedocs.io/tutorials/models.html#model-output-format\n",
    "    v = Visualizer(im[:, :, ::-1],\n",
    "                   metadata=_dataset_metadata,\n",
    "                   scale=0.5,\n",
    "                   instance_mode=ColorMode.SEGMENTATION   # remove the colors of unsegmented pixels. This option is only available for segmentation models\n",
    "    )\n",
    "    out = v.draw_instance_predictions(outputs[\"instances\"].to(\"cpu\"))\n",
    "    if IN_COLAB:\n",
    "        cv2_imshow(out.get_image()[:, :, ::-1])\n",
    "    else:\n",
    "        plt.imshow(out.get_image()[:, :, ::-1])\n",
    "        plt.show()\n"
   ]
  },
  {
   "cell_type": "markdown",
   "metadata": {
    "id": "kblA1IyFvWbT"
   },
   "source": [
    "A more robust way to evaluate the model is to use a metric called Average Precision (AP) already implemented in the detectron2 package. If you want more precision on what the AP is, you can take a look [here](https://scikit-learn.org/stable/modules/generated/sklearn.metrics.average_precision_score.html#sklearn.metrics.average_precision_score) and [here](https://en.wikipedia.org/w/index.php?title=Information_retrieval&oldid=793358396#Average_precision)."
   ]
  },
  {
   "cell_type": "markdown",
   "metadata": {
    "id": "jPMXoajNijKB"
   },
   "source": [
    "### #TODO: expand on  how to interpret AP"
   ]
  },
  {
   "cell_type": "code",
   "execution_count": null,
   "metadata": {
    "id": "UcYnHtY9ijKC"
   },
   "outputs": [],
   "source": [
    "from detectron2.evaluation import COCOEvaluator, inference_on_dataset\n",
    "from detectron2.data import build_detection_test_loader"
   ]
  },
  {
   "cell_type": "code",
   "execution_count": null,
   "metadata": {
    "id": "h9tECBQCvMv3"
   },
   "outputs": [],
   "source": [
    "if IN_COLAB:\n",
    "    evaluator = COCOEvaluator(f\"{DATASET_NAME}_valid\", cfg, False, output_dir=\"/content/eval_output/\")\n",
    "else:\n",
    "    evaluator = COCOEvaluator(f\"{DATASET_NAME}_valid\", cfg, False, output_dir=\"eval_output/\")\n",
    "\n",
    "val_loader = build_detection_test_loader(cfg, f\"{DATASET_NAME}_valid\")\n",
    "print(inference_on_dataset(predictor.model, val_loader, evaluator))\n",
    "# another equivalent way to evaluate the model is to use `trainer.test`"
   ]
  },
  {
   "cell_type": "markdown",
   "metadata": {
    "id": "HFuPzChWzU6Q"
   },
   "source": [
    "# Let's test our newly trained model on a new video\n",
    "For batch inferencing of a list of videos, please check the **Annolid_video_batch_inference Colab** here <a href=\"https://colab.research.google.com/github/healthonrails/annolid/blob/main/docs/tutorials/Annolid_video_batch_inference.ipynb\" target=\"_blank\"><img src=\"https://colab.research.google.com/assets/colab-badge.svg\" alt=\"Open In Colab\"/></a>."
   ]
  },
  {
   "cell_type": "markdown",
   "metadata": {
    "id": "Ajsf88l3AAWU"
   },
   "source": [
    "##Download a video from a URL or your can upload videos"
   ]
  },
  {
   "cell_type": "code",
   "execution_count": null,
   "metadata": {
    "id": "GY5wFYbotW9i"
   },
   "outputs": [],
   "source": [
    "#e.g.\n",
    "#!wget https://hosting-website.com/your-video.mp4"
   ]
  },
  {
   "cell_type": "markdown",
   "metadata": {
    "id": "606Pdue7BRP3"
   },
   "source": [
    "### Please change the VIDEO_INPUT to the path of your inference video and save the results to the desired OUTPUT_DIR"
   ]
  },
  {
   "cell_type": "code",
   "execution_count": null,
   "metadata": {
    "id": "g6AzoGTVijKE"
   },
   "outputs": [],
   "source": [
    "VIDEO_INPUT = '/content/birds_dance_bbc.mp4' #@param\n",
    "OUTPUT_DIR = \"/content/sample_dataset/\" #@param\n",
    "MULTIPLE_TRACKING = False #@param For assigining IDs for multipe animals based on IOU overlap"
   ]
  },
  {
   "cell_type": "code",
   "execution_count": null,
   "metadata": {
    "id": "xn0LVJTWtLhJ"
   },
   "outputs": [],
   "source": [
    "video = cv2.VideoCapture(VIDEO_INPUT)\n",
    "width = int(video.get(cv2.CAP_PROP_FRAME_WIDTH))\n",
    "height = int(video.get(cv2.CAP_PROP_FRAME_HEIGHT))\n",
    "frames_per_second = video.get(cv2.CAP_PROP_FPS)\n",
    "num_frames = int(video.get(cv2.CAP_PROP_FRAME_COUNT))\n",
    "basename = os.path.basename(VIDEO_INPUT)\n",
    "os.makedirs(OUTPUT_DIR,exist_ok=True)"
   ]
  },
  {
   "cell_type": "code",
   "execution_count": null,
   "metadata": {
    "id": "14VKYjHr2gGg"
   },
   "outputs": [],
   "source": [
    "def _frame_from_video(video):\n",
    "  attempt = 0\n",
    "  for i in range(num_frames):\n",
    "      success, frame = video.read()\n",
    "      if success:\n",
    "          yield frame\n",
    "      else:\n",
    "          attempt += 1\n",
    "          if attempt >= 2000:\n",
    "              break\n",
    "          else:\n",
    "              video.set(cv2.CAP_PROP_POS_FRAMES, i+1)\n",
    "              print('Cannot read this frame:', i)\n",
    "              continue"
   ]
  },
  {
   "cell_type": "code",
   "execution_count": null,
   "metadata": {
    "id": "_JHTT5XKIBsf"
   },
   "outputs": [],
   "source": [
    "import pandas as pd\n",
    "import pycocotools.mask as mask_util"
   ]
  },
  {
   "cell_type": "code",
   "execution_count": null,
   "metadata": {
    "id": "AIG71LHZPsgs"
   },
   "outputs": [],
   "source": [
    "class_names = _dataset_metadata.thing_classes\n",
    "print(class_names)"
   ]
  },
  {
   "cell_type": "code",
   "execution_count": null,
   "metadata": {
    "id": "GMMXsOEDst6k"
   },
   "outputs": [],
   "source": []
  },
  {
   "cell_type": "code",
   "execution_count": null,
   "metadata": {
    "id": "mwgF4UgewOn2"
   },
   "outputs": [],
   "source": [
    "if MULTIPLE_TRACKING:\n",
    "    from detectron2.config import CfgNode as CfgNode_\n",
    "    from detectron2.tracking.base_tracker import build_tracker_head\n",
    "    cfg.TRACKER_HEADS = CfgNode_()\n",
    "    cfg.TRACKER_HEADS.TRACKER_NAME = \"IOUWeightedHungarianBBoxIOUTracker\"\n",
    "    cfg.TRACKER_HEADS.VIDEO_HEIGHT = height\n",
    "    cfg.TRACKER_HEADS.VIDEO_WIDTH = width\n",
    "    cfg.TRACKER_HEADS.MAX_NUM_INSTANCES = 200\n",
    "    cfg.TRACKER_HEADS.MAX_LOST_FRAME_COUNT = 30\n",
    "    cfg.TRACKER_HEADS.MIN_BOX_REL_DIM = 0.02\n",
    "    cfg.TRACKER_HEADS.MIN_INSTANCE_PERIOD = 1\n",
    "    cfg.TRACKER_HEADS.TRACK_IOU_THRESHOLD = 0.3\n",
    "    tracker = build_tracker_head(cfg)"
   ]
  },
  {
   "cell_type": "markdown",
   "metadata": {
    "id": "OqtVcaLWFiM7"
   },
   "source": [
    "## Please change the skip_frames parameter if you want to skip some frames\n",
    "The default value is 1 for no skipping. If you set it to 10, only every 10th frame will be processed and other frames will be skipped"
   ]
  },
  {
   "cell_type": "code",
   "execution_count": null,
   "metadata": {
    "id": "MYI_Cv-GBplZ"
   },
   "outputs": [],
   "source": [
    "frame_number = 0\n",
    "# select number of frames to skip e.g. 2 for every other frames\n",
    "# if skip_frames = 30, every 30th frame will be processed.\n",
    "# default 1 no skipping\n",
    "skip_frames = 1 #@param {type: \"slider\", min:0, max:30, step: 1}\n",
    "tracking_results = []\n",
    "VIS = True\n",
    "\n",
    "for frame in _frame_from_video(video):\n",
    "    if not frame_number % skip_frames == 0:\n",
    "        frame_number += 1\n",
    "        print(\"skipping frame number: \", frame_number)\n",
    "        continue\n",
    "    im = frame\n",
    "    outputs = predictor(im)\n",
    "    out_dict = {}\n",
    "    instances = outputs[\"instances\"].to(\"cpu\")\n",
    "    if MULTIPLE_TRACKING:\n",
    "        instances = tracker.update(instances)\n",
    "    num_instance = len(instances)\n",
    "    if num_instance == 0:\n",
    "        out_dict['frame_number'] = frame_number\n",
    "        out_dict['x1'] = None\n",
    "        out_dict['y1'] = None\n",
    "        out_dict['x2'] = None\n",
    "        out_dict['y2'] = None\n",
    "        out_dict['instance_name'] = None\n",
    "        out_dict['class_score'] = None\n",
    "        out_dict['segmentation'] = None\n",
    "        out_dict['tracking_id'] = None\n",
    "        tracking_results.append(out_dict)\n",
    "        out_dict = {}\n",
    "    else:\n",
    "        boxes = instances.pred_boxes.tensor.numpy()\n",
    "        scores = instances.scores.tolist()\n",
    "        classes = instances.pred_classes.tolist()\n",
    "        if MULTIPLE_TRACKING:\n",
    "            tracking_ids = instances.ID\n",
    "\n",
    "\n",
    "        boxes = boxes.tolist()\n",
    "\n",
    "        has_mask = instances.has(\"pred_masks\")\n",
    "\n",
    "        if has_mask:\n",
    "            rles =[\n",
    "                   mask_util.encode(np.array(mask[:,:,None], order=\"F\", dtype=\"uint8\"))[0]\n",
    "                   for mask in instances.pred_masks\n",
    "            ]\n",
    "            for rle in rles:\n",
    "              rle[\"counts\"] = rle[\"counts\"].decode(\"utf-8\")\n",
    "\n",
    "        assert len(rles) == len(boxes)\n",
    "        for k in range(num_instance):\n",
    "            box = boxes[k]\n",
    "            out_dict['frame_number'] = frame_number\n",
    "            out_dict['x1'] = box[0]\n",
    "            out_dict['y1'] = box[1]\n",
    "            out_dict['x2'] = box[2]\n",
    "            out_dict['y2'] = box[3]\n",
    "            out_dict['instance_name'] = class_names[classes[k]]\n",
    "            out_dict['class_score'] = scores[k]\n",
    "            out_dict['segmentation'] = rles[k]\n",
    "            if not MULTIPLE_TRACKING or len(class_names) <= 1:\n",
    "                out_dict['tracking_id'] = 0\n",
    "            elif MULTIPLE_TRACKING:\n",
    "                out_dict['tracking_id'] = tracking_ids[k]\n",
    "            if frame_number % 1000 == 0:\n",
    "                print(f\"Frame number {frame_number}: {out_dict}\")\n",
    "            tracking_results.append(out_dict)\n",
    "            out_dict = {}\n",
    "\n",
    "    # format is documented at https://detectron2.readthedocs.io/tutorials/models.html#model-output-format\n",
    "    if VIS:\n",
    "        v = Visualizer(im[:, :, ::-1],\n",
    "                    metadata=_dataset_metadata,\n",
    "                    scale=0.5,\n",
    "                    instance_mode=ColorMode.IMAGE_BW   # remove the colors of unsegmented pixels. This option is only available for segmentation models\n",
    "         )\n",
    "        out = v.draw_instance_predictions(outputs[\"instances\"].to(\"cpu\"))\n",
    "        out_image = out.get_image()[:, :, ::-1]\n",
    "        if frame_number % 1000 == 0:\n",
    "            if IN_COLAB:\n",
    "                cv2_imshow(out_image)\n",
    "            else:\n",
    "                plt.imshow(out_image)\n",
    "                plt.show()\n",
    "            #Trun off the visulization to save time after the first frame\n",
    "            VIS = False\n",
    "    frame_number += 1\n",
    "    print(f\"Processing frame number {frame_number}\")\n",
    "\n",
    "video.release()"
   ]
  },
  {
   "cell_type": "markdown",
   "metadata": {
    "id": "uGtm3KALxyqp"
   },
   "source": [
    "## All the tracking results will be saved to this Pandas dataframe.\n",
    "\n"
   ]
  },
  {
   "cell_type": "code",
   "execution_count": null,
   "metadata": {
    "id": "3W6dRQXoN85C"
   },
   "outputs": [],
   "source": [
    "df = pd.DataFrame(tracking_results)"
   ]
  },
  {
   "cell_type": "code",
   "execution_count": null,
   "metadata": {
    "id": "lIR1fe6zODRq"
   },
   "outputs": [],
   "source": [
    "df.head()"
   ]
  },
  {
   "cell_type": "markdown",
   "metadata": {
    "id": "DgI8caT9-mlO"
   },
   "source": [
    "## Calculate the bbox center point x, y locations"
   ]
  },
  {
   "cell_type": "code",
   "execution_count": null,
   "metadata": {
    "id": "UGBFdG8RIcZo"
   },
   "outputs": [],
   "source": [
    "cx = (df.x1 + df.x2)/2\n",
    "cy = (df.y1 + df.y2)/2\n",
    "df['cx'] = cx\n",
    "df['cy'] = cy"
   ]
  },
  {
   "cell_type": "code",
   "execution_count": null,
   "metadata": {
    "id": "1R2Xii899cob",
    "scrolled": true
   },
   "outputs": [],
   "source": [
    "df.head()"
   ]
  },
  {
   "cell_type": "markdown",
   "metadata": {
    "id": "_0NJtjZUsoQK"
   },
   "source": [
    "## Only save the top 1 prediction for each frame for each class\n",
    "Note: You can change the number to save top n predictions for each frame and an instance name. head(2), head(5), or head(n)\n",
    "To save all the predictions, please use `df.to_csv('my_tracking_results.csv')`."
   ]
  },
  {
   "cell_type": "code",
   "execution_count": null,
   "metadata": {
    "id": "qAJ5dU-EhDXP"
   },
   "outputs": [],
   "source": [
    "df_top = df.groupby(['frame_number','instance_name'],sort=False).head(1)"
   ]
  },
  {
   "cell_type": "code",
   "execution_count": null,
   "metadata": {
    "id": "27jn0z3_hTKS"
   },
   "outputs": [],
   "source": [
    "df_top.head()"
   ]
  },
  {
   "cell_type": "markdown",
   "metadata": {
    "id": "5A1KvDDe_K8P"
   },
   "source": [
    "## Visualize the center points with plotly scatter plot"
   ]
  },
  {
   "cell_type": "code",
   "execution_count": null,
   "metadata": {
    "id": "5oY3tHTOTc-Z"
   },
   "outputs": [],
   "source": [
    "df_vis = df_top[df_top.instance_name != 'Text'][['frame_number','cx','cy','instance_name']]\n",
    "df_vis.dropna(inplace=True)"
   ]
  },
  {
   "cell_type": "code",
   "execution_count": null,
   "metadata": {
    "id": "ZhxX1tpGI1LX"
   },
   "outputs": [],
   "source": [
    "import plotly.express as px\n",
    "import plotly.graph_objects as go\n",
    "import numpy as np\n",
    "\n",
    "fig = px.scatter(df_vis,\n",
    "                 x=\"cx\",\n",
    "                 y=\"cy\",\n",
    "                 color=\"instance_name\",\n",
    "                 hover_data=['frame_number','cx','cy'])\n",
    "fig.show()"
   ]
  },
  {
   "cell_type": "code",
   "execution_count": null,
   "metadata": {
    "id": "2pfF0eecelCY"
   },
   "outputs": [],
   "source": [
    "from pathlib import  Path\n",
    "tracking_results_csv = f\"{Path(dataset).stem}_{Path(VIDEO_INPUT).stem}_{cfg.SOLVER.MAX_ITER}_iters_mask_rcnn_tracking_results_with_segmenation.csv\"\n",
    "df_top.to_csv(tracking_results_csv)"
   ]
  },
  {
   "cell_type": "markdown",
   "metadata": {
    "id": "DlVKcxTW5tIa"
   },
   "source": [
    "## Download the tracking result CSV file to your local device"
   ]
  },
  {
   "cell_type": "code",
   "execution_count": null,
   "metadata": {
    "id": "dFpaGUfsPvJZ"
   },
   "outputs": [],
   "source": [
    "if IN_COLAB:\n",
    "    from google.colab import files\n",
    "    files.download(tracking_results_csv)"
   ]
  },
  {
   "cell_type": "markdown",
   "metadata": {
    "id": "-u2dGs54Ctuo"
   },
   "source": [
    "## Save and download the trained model weights"
   ]
  },
  {
   "cell_type": "code",
   "execution_count": null,
   "metadata": {
    "id": "BSpX5Yr-Cyq-"
   },
   "outputs": [],
   "source": [
    "final_model_file = os.path.join(cfg.OUTPUT_DIR,'model_final.pth')\n",
    "files.download(final_model_file)"
   ]
  },
  {
   "cell_type": "markdown",
   "metadata": {
    "id": "_zBXJR3D_Xf6"
   },
   "source": [
    "#For more tutorials\n",
    "1.For batch post-processsing of the tracking results CSV files based on mask area and IOUs, please check the **Annolid_batch_post_processinng_tracking_csv_for_masks_ious_and_areas Colab** here <a href=\"https://colab.research.google.com/github/healthonrails/annolid/blob/main/docs/tutorials/Annolid_batch_post_processinng_tracking_csv_for_masks_ious_and_areas.ipynb\" target=\"_blank\"><img src=\"https://colab.research.google.com/assets/colab-badge.svg\" alt=\"Open In Colab\"/></a>.\n",
    "\n",
    "2.For post-processsing of masks based on mask area and IOUs, please check the **Annolid_post_processinng_masks_ious_and_areas.ipynb Colab** here <a href=\"https://colab.research.google.com/github/healthonrails/annolid/blob/main/docs/tutorials/Annolid_post_processinng_masks_ious_and_areas.ipynb\" target=\"_blank\"><img src=\"https://colab.research.google.com/assets/colab-badge.svg\" alt=\"Open In Colab\"/></a>.\n",
    "\n",
    "\n",
    "3.For calculating distances for a pair of instances in the same frame or the same instance across frames, please check the **Annolid_post_processing_distances.ipynb Colab** here <a href=\"https://colab.research.google.com/github/healthonrails/annolid/blob/main/docs/tutorials/Annolid_post_processing_distances.ipynb\" target=\"_blank\"><img src=\"https://colab.research.google.com/assets/colab-badge.svg\" alt=\"Open In Colab\"/></a>.\n",
    "\n",
    "4.For post-processsing of left right switch issues, please check the **Annolid_post_processing_fix_left_right_switch.ipynb Colab** here <a href=\"https://colab.research.google.com/github/healthonrails/annolid/blob/main/docs/tutorials/Annolid_post_processing_fix_left_right_switch.ipynb\" target=\"_blank\"><img src=\"https://colab.research.google.com/assets/colab-badge.svg\" alt=\"Open In Colab\"/></a>.\n",
    "\n",
    "5.Train YOLACT based instance segmentation models, please check the **Train_networks_tutorial_v1.0.1.ipynb Colab** here <a href=\"https://colab.research.google.com/github/healthonrails/annolid/blob/main/docs/tutorials/Train_networks_tutorial_v1.0.1.ipynb\" target=\"_blank\"><img src=\"https://colab.research.google.com/assets/colab-badge.svg\" alt=\"Open In Colab\"/></a>.\n"
   ]
  }
 ],
 "metadata": {
  "accelerator": "GPU",
  "colab": {
   "gpuType": "T4",
   "provenance": [
    {
     "file_id": "https://github.com/healthonrails/annolid/blob/main/docs/tutorials/Annolid_on_Detectron2_Tutorial.ipynb",
     "timestamp": 1711058171571
    }
   ]
  },
  "kernelspec": {
   "name": "python3",
   "language": "python",
   "display_name": "Python 3 (ipykernel)"
  },
  "language_info": {
   "name": "python"
  }
 },
 "nbformat": 4,
 "nbformat_minor": 0
}
